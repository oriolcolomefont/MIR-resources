{
 "cells": [
  {
   "cell_type": "markdown",
   "metadata": {},
   "source": [
    " # Generating Tempogram from Novelty Onset Function                  \n",
    " ###        Prepared by: Rachit Gupta\n",
    " \n",
    "In this Notebook novelty onset functions are used to generate tempogram representation. Tempogram is similar to a spectrogram but is a time-tempo representation of a given time-dependent signal.\n",
    "\n",
    "For computing tempograms, we typically first extract a novelty curve. The peaks of this curve yield good indicators for note onsets. In a second step, local periodic patterns are derived from the novelty curve using fourier transform method\n",
    "\n",
    "Steps to get a tempogram using Fourier transform method:\n",
    "- Compute a spectrogram (STFT) of the novelty curve\n",
    "- Convert frequency axis (given in Hertz) into\n",
    "  tempo axis (given in BPM)\n",
    "- Magnitude spectrogram indicates local tempo "
   ]
  },
  {
   "cell_type": "markdown",
   "metadata": {},
   "source": [
    "## Importing Modules:"
   ]
  },
  {
   "cell_type": "code",
   "execution_count": null,
   "metadata": {},
   "outputs": [],
   "source": [
    "import os,sys\n",
    "import matplotlib.pyplot as plt\n",
    "import numpy as np\n",
    "from essentia.standard import *\n",
    "from scipy.signal import get_window\n",
    "import IPython.display as ipd\n",
    "import urllib.request\n",
    "from IPython.display import Image\n",
    "from scipy.signal import medfilt,argrelextrema\n",
    "import IPython   \n"
   ]
  },
  {
   "cell_type": "markdown",
   "metadata": {},
   "source": [
    "## Downloading Sound from Freesound:"
   ]
  },
  {
   "cell_type": "code",
   "execution_count": null,
   "metadata": {},
   "outputs": [],
   "source": [
    "import sys,os\n",
    "sys.path.append(os.path.join(os.path.dirname('__file__'), 'freesound-python/'))\n",
    "\n",
    "import freesound\n",
    "client = freesound.FreesoundClient()\n",
    "#You are expected to place your token in the line below\n",
    "client.set_token(\"...yourTokenGoesHere...\")\n",
    "\n",
    "maxNumFilePerInst=1\n",
    "\n",
    "queryStrings=[\"127 Bpm Dub Techno Groove\"]\n",
    "for queryStr in queryStrings:\n",
    "    results = client.text_search(query=queryStr,fields=\"id,name,previews,tags\")\n",
    "    cnt=0\n",
    "    for sound in results:\n",
    "        #print(sound.name)\n",
    "        sound.retrieve_preview(\".\",sound.name+\".wav\")\n",
    "        os.rename(sound.name+\".wav\",queryStr+\"_\"+str(cnt)+\".wav\")\n",
    "        cnt=cnt+1\n",
    "        if cnt>=maxNumFilePerInst:\n",
    "            break\n",
    "\n",
    "print(\"Files are copied! check your folder\")"
   ]
  },
  {
   "cell_type": "markdown",
   "metadata": {},
   "source": [
    "## Defining functions to calculate Onsets for Tempogram:\n",
    "- Spectral Flux: Spectral flux is a measure of how quickly the power spectrum of a signal is changing, calculated by comparing the power spectrum for one frame against the power spectrum from the previous frame\n",
    "- High Frequency Content: It is used to characterize the amount of high-frequency content in the signal. The magnitudes of the spectral bins are added together, but multiplying each magnitude by the bin \"position\" (proportional to the frequency). It accurately detects percussive events."
   ]
  },
  {
   "cell_type": "code",
   "execution_count": null,
   "metadata": {},
   "outputs": [],
   "source": [
    "\n",
    "def spectralFlux(x,windowSize,hopSize,winType=\"hann\"):\n",
    "    w = Windowing(type = winType)\n",
    "    spectrum = Spectrum(size = windowSize)\n",
    "    prevAmpSpec=np.zeros((1+int(windowSize/2),))\n",
    "    sf=[]\n",
    "    for frame in FrameGenerator(x, frameSize = windowSize, hopSize = hopSize):\n",
    "        ampSpec = spectrum(w(frame))\n",
    "        specDiff=ampSpec-prevAmpSpec\n",
    "        h=(specDiff+np.abs(specDiff))/2#half-wave rectification\n",
    "        \n",
    "        sf.append(np.sum(h))\n",
    "        \n",
    "        prevAmpSpec = ampSpec\n",
    "        \n",
    "    SF=np.array(sf[1:])\n",
    "    return SF\n",
    "\n",
    "def highFreqCont(x,windowSize,hopSize,winType=\"hann\"):\n",
    "    w = Windowing(type = winType)\n",
    "    spectrum = Spectrum(size = windowSize)\n",
    "\n",
    "    hfc=[]\n",
    "    for frame in FrameGenerator(x, frameSize = windowSize, hopSize = hopSize):\n",
    "        ampSpec = spectrum(w(frame))\n",
    "        hfc.append(np.dot(np.power(ampSpec,2),np.arange(ampSpec.size)))\n",
    "    hfc=np.array(hfc) \n",
    "    # compute the derivative and half-wave rectification\n",
    "    hfc_dev=hfc[1:]-hfc[:-1]#derivative\n",
    "    hfc_dev=(hfc_dev+np.abs(hfc_dev))/2#half-wave rectification\n",
    "    return hfc_dev\n",
    "\n",
    "\n",
    "\n"
   ]
  },
  {
   "cell_type": "markdown",
   "metadata": {},
   "source": [
    "## Tempogram Representation:\n",
    "Here, to present the basic idea we use two drawings from Meinhard Muller's music processing lecture notes\n",
    "[Source for the Images](https://www.audiolabs-erlangen.de/content/05-fau/professor/00-mueller/02-teaching/2016w_mpa/2016_MuellerMeinard_LectureMusicProcessing_BeatTracking.pdf)"
   ]
  },
  {
   "cell_type": "code",
   "execution_count": null,
   "metadata": {},
   "outputs": [],
   "source": [
    "Image(url=\"http://i63.tinypic.com/2e331n7.png\")"
   ]
  },
  {
   "cell_type": "code",
   "execution_count": null,
   "metadata": {},
   "outputs": [],
   "source": [
    "\n",
    "Image(url= \"http://i67.tinypic.com/1zb89ea.png\")"
   ]
  },
  {
   "cell_type": "markdown",
   "metadata": {},
   "source": [
    "## Defining Fourier Tempogram function:"
   ]
  },
  {
   "cell_type": "code",
   "execution_count": null,
   "metadata": {},
   "outputs": [],
   "source": [
    "\n",
    "def fourierTempo(onset,fwindSize,fhopSize):\n",
    "\n",
    "        beatSpec = np.array([]).reshape(0,(fwindSize/2)+1)\n",
    "        startIndexes=np.arange(0, onset.size-fwindSize,fhopSize, dtype=int)\n",
    "        numWindows=startIndexes.size\n",
    "    \n",
    "        w = get_window(('hann'), fwindSize)\n",
    "        spec=Spectrum()\n",
    "    \n",
    "        for k in range(numWindows):\n",
    "            startInd=startIndexes[k]\n",
    "            onset1=essentia.array(onset[startInd:startInd+fwindSize]*w)\n",
    "            magn=spec(onset1)\n",
    "            beatSpec = np.vstack((beatSpec,magn))\n",
    "\n",
    "        \n",
    "\n",
    "        return beatSpec\n"
   ]
  },
  {
   "cell_type": "markdown",
   "metadata": {},
   "source": [
    "## Audio Files used:"
   ]
  },
  {
   "cell_type": "code",
   "execution_count": null,
   "metadata": {
    "scrolled": true
   },
   "outputs": [],
   "source": [
    "fs = 44100\n",
    "windowSize=1024\n",
    "hopSize=256\n",
    "filename = '127 Bpm Dub Techno Groove_0.wav'\n",
    "p = MonoLoader(filename=filename, sampleRate = fs)()\n",
    "p = p/np.max(np.abs(p))\n",
    "t1=np.arange(p.size)/float(fs)\n",
    "#plotting signal \n",
    "\n",
    "#Getiing Specral Flux Onsets\n",
    "Sf=spectralFlux(p,windowSize,hopSize);Sf=Sf/np.max(Sf)\n",
    "\n",
    "#Getting HFC Onsets\n",
    "hfc=highFreqCont(p,windowSize,hopSize);hfc=hfc/np.max(hfc)\n",
    "\n",
    "print('Input Signal of File '+ filename)\n",
    "\n",
    "#plotting \n",
    "f, axarr = plt.subplots(3,1,figsize=(20,10))\n",
    "plt.subplots_adjust( bottom=.5, hspace=1,wspace=1,top=2)\n",
    "    \n",
    "#Plotting the Signal and Onsets using HFC and Spectral Flux method\n",
    "axarr[0].plot(t1,p,label='Input Signal:')\n",
    "axarr[1].plot(hfc,label=' Onsets High freq Content');axarr[1].axis('off');axarr[1].legend(loc=1)\n",
    "axarr[2].plot(Sf,label=' Onsets Spectral Flux');axarr[2].axis('off');axarr[2].legend(loc=1)    \n",
    "f.tight_layout()\n",
    "plt.show()\n",
    "IPython.display.Audio(p,rate=fs)"
   ]
  },
  {
   "cell_type": "code",
   "execution_count": null,
   "metadata": {},
   "outputs": [],
   "source": [
    "filename = '../../../data/baris/varyingTempoBlues.mp3'\n",
    "l = MonoLoader(filename = filename, sampleRate = fs)()\n",
    "l = l/np.max(np.abs(l))\n",
    "t2=np.arange(l.size)/float(fs)\n",
    "#plotting signal \n",
    "\n",
    "#Getiing Specral Flux Onsets\n",
    "Sf=spectralFlux(l,windowSize,hopSize);Sf=Sf/np.max(Sf)\n",
    "\n",
    "#Getting HFC Onsets\n",
    "hfc=highFreqCont(l,windowSize,hopSize);hfc=hfc/np.max(hfc)\n",
    "\n",
    "print('Input Signal of File '+ filename)\n",
    "\n",
    "#ploting onsets and tempogram\n",
    "f, axarr = plt.subplots(3,1,figsize=(20,10))\n",
    "plt.subplots_adjust( bottom=.5, hspace=1,wspace=1,top=2)\n",
    "    \n",
    "#Plotting onsets of Hfc\n",
    "axarr[0].plot(t2,l,label='Input Signal:')\n",
    "axarr[1].plot(hfc,label='Onsets High freq Content');axarr[1].axis('off');axarr[1].legend(loc=1)\n",
    "axarr[2].plot(Sf,label=' Onsets Spectral Flux');axarr[2].axis('off');axarr[2].legend(loc=1)    \n",
    "f.tight_layout()\n",
    "plt.show()\n",
    "\n",
    "IPython.display.Audio(l,rate=fs)\n"
   ]
  },
  {
   "cell_type": "markdown",
   "metadata": {},
   "source": [
    "## Plotting Function for Tempogram:"
   ]
  },
  {
   "cell_type": "code",
   "execution_count": null,
   "metadata": {
    "scrolled": true
   },
   "outputs": [],
   "source": [
    "\n",
    "\n",
    "def plot(hfcfb,sffb,tempogram2,tempogram):\n",
    "    \n",
    "    f, axarr = plt.subplots(4,1,figsize=(10,20))\n",
    "    plt.subplots_adjust( bottom=.5, hspace=1,wspace=1,top=2)\n",
    "    \n",
    "    \n",
    "\n",
    "    #plotting  tempogram\n",
    "    \n",
    "    \n",
    "    #Plotting Tempogram Hfc\n",
    "    axarr[0].pcolormesh(np.transpose(hfcfb[:,:200]))\n",
    "    axarr[0].set_title('Tempogram(Fourier) using HFC onsets of '+ file)\n",
    "    axarr[0].set_ylabel('Tempo')\n",
    "    axarr[0].set_xlabel('Time')\n",
    "    \n",
    "\n",
    "    #Plotting Tempogram using BpmHistogram \n",
    "    axarr[1].pcolormesh(np.transpose(tempogram2))\n",
    "    axarr[1].set_title('Bpm Histogram Tempogram using HfC Onsets of '+ file)\n",
    "    axarr[1].set_ylabel('Tempo(Bpm)')\n",
    "    axarr[1].set_xlabel('Time')\n",
    "    \n",
    "    \n",
    "    #Plotting Tempogram Spectral flux\n",
    "    axarr[2].pcolormesh(np.transpose(sffb[:,:200]))\n",
    "    axarr[2].set_title('Tempogram(Fourier) using Spectral Flux Onsets of '+ file)\n",
    "    axarr[2].set_ylabel('Tempo')\n",
    "    axarr[2].set_xlabel('Time')\n",
    "    \n",
    "    #Plotting Tempogram using BpmHistogram of Spectral Flux onsets\n",
    "    axarr[3].pcolormesh(np.transpose(tempogram))\n",
    "    axarr[3].set_title('BpmHistogram Tempogram using Spectral flux Onsets of'+file)\n",
    "    axarr[3].set_ylabel('Tempo(Bpm)')\n",
    "    axarr[3].set_xlabel('Time')\n",
    "\n",
    "    f.tight_layout()\n",
    "    plt.show()\n",
    "\n"
   ]
  },
  {
   "cell_type": "markdown",
   "metadata": {},
   "source": [
    "## Calling  the fourier transform function and BpmHistogram from Essentia to generate Tempograms of Audio files:"
   ]
  },
  {
   "cell_type": "code",
   "execution_count": null,
   "metadata": {},
   "outputs": [],
   "source": [
    "files=['127 Bpm Dub Techno Groove_0.wav','../../../data/baris/varyingTempoBlues.mp3']\n",
    "\n",
    "fs = 44100\n",
    "windowSize=1024\n",
    "hopSize=256\n",
    "fwindowsize=1024\n",
    "fhopsize=100\n",
    "\n",
    "for file in files:\n",
    "\n",
    "    x = MonoLoader(filename = file, sampleRate = fs)()\n",
    "    t=np.arange(x.size)/float(fs)\n",
    "    \n",
    "    x = x/np.max(np.abs(x))\n",
    "    np.seterr(divide='ignore', invalid='ignore')\n",
    "    tempo=BpmHistogram(maxBpm=560, minBpm = 30)\n",
    "    \n",
    "    #Getiing Specral Flux Onsets\n",
    "    Sf=spectralFlux(x,windowSize,hopSize);Sf=Sf/np.max(Sf)\n",
    "\n",
    "    #Getting HFC Onsets\n",
    "    hfc=highFreqCont(x,windowSize,hopSize);hfc=hfc/np.max(hfc)\n",
    "    \n",
    "    #getting spectrum of HFC Onsets\n",
    "    hfcfb=fourierTempo(hfc,fwindowsize,fhopsize)\n",
    "    \n",
    "    #gettin spectrum of Spectral Flux Onsets\n",
    "    sffb=fourierTempo(Sf,fwindowsize,fhopsize)\n",
    "       \n",
    "    #Using Bpm Histogram from Essentia to get Tempogram \n",
    "    bpm, bpmCandidates, bpmMagnitudes, tempogram, frameBpms, ticks, ticksMagnitude, sinusoid= tempo(Sf)\n",
    "    bpm2, bpmCandidates2, bpmMagnitudes2, tempogram2, frameBpms2, ticks2, ticksMagnitude2, sinusoid2= tempo(essentia.array(hfc))\n",
    "    \n",
    "    #calling plot function \n",
    "    plot(hfcfb,sffb,tempogram2,tempogram)\n",
    "    \n",
    "    "
   ]
  },
  {
   "cell_type": "markdown",
   "metadata": {},
   "source": [
    "From the tempogram it can be seen that the tempo for the file \"127 Bpm Dub Techno Groove_0.wav\" is almost constant throughout the length of the audio track while it gradually increases for the file \"varyingTempoBlues.mp3\" for both the Hfc and Spectral Flux onsets."
   ]
  },
  {
   "cell_type": "code",
   "execution_count": null,
   "metadata": {},
   "outputs": [],
   "source": []
  }
 ],
 "metadata": {
  "kernelspec": {
   "display_name": "Python 3",
   "language": "python",
   "name": "python3"
  },
  "language_info": {
   "codemirror_mode": {
    "name": "ipython",
    "version": 3
   },
   "file_extension": ".py",
   "mimetype": "text/x-python",
   "name": "python",
   "nbconvert_exporter": "python",
   "pygments_lexer": "ipython3",
   "version": "3.5.2"
  }
 },
 "nbformat": 4,
 "nbformat_minor": 2
}
