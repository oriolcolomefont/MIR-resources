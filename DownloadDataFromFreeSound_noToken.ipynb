{
 "cells": [
  {
   "cell_type": "markdown",
   "metadata": {},
   "source": [
    "## Using FreeSound API\n",
    "\n",
    "Freesound is the on-line collaborative database of sounds with a very large community support (2.5million registered users) which serves also as an excellent resource for MIR education and research. \n",
    "\n",
    "This notebook demonstrates downloading data from Freesound using \n",
    "FreeSound-Pyton: https://github.com/MTG/freesound-python\n",
    "\n",
    "To be able to download sounds from FreeSound, you would need to have a user and obtain an API authenticaion key(token). Please create a user in https://freesound.org \n",
    "and check this page for getting the token:\n",
    "https://freesound.org/help/developers/\n",
    "\n",
    "With this example 3 query strings are used(\"sax\",\"harp\",\"tabla\") to retrieve a total of 30 sound files (10 for each query string) from FreeSound. The downloaded files are re-named to query string. Warning: check the format of the downloaded sounds, they are downloaded in the same format they are available in Freesound"
   ]
  },
  {
   "cell_type": "code",
   "execution_count": 9,
   "metadata": {},
   "outputs": [
    {
     "data": {
      "text/html": [
       "<iframe width=\"640\" height=\"360\" src=\"https://www.youtube.com/embed/YiHX62vYp-0?ecver=1\" frameborder=\"0\" allow=\"autoplay; encrypted-media\" allowfullscreen></iframe>"
      ],
      "text/plain": [
       "<IPython.core.display.HTML object>"
      ]
     },
     "execution_count": 9,
     "metadata": {},
     "output_type": "execute_result"
    }
   ],
   "source": [
    "from IPython.display import HTML\n",
    "HTML('<iframe width=\"640\" height=\"360\" src=\"https://www.youtube.com/embed/YiHX62vYp-0?ecver=1\" frameborder=\"0\" allow=\"autoplay; encrypted-media\" allowfullscreen></iframe>')"
   ]
  },
  {
   "cell_type": "code",
   "execution_count": 1,
   "metadata": {},
   "outputs": [
    {
     "name": "stdout",
     "output_type": "stream",
     "text": [
      "Files are copied! check your folder\n"
     ]
    }
   ],
   "source": [
    "import sys,os\n",
    "sys.path.append(os.path.join(os.path.dirname('__file__'), 'freesound-python/'))\n",
    "\n",
    "import freesound\n",
    "client = freesound.FreesoundClient()\n",
    "#You are expected to place your token in the line below\n",
    "client.set_token(\"...your token...\",\"token\")\n",
    "\n",
    "maxNumFilePerInst=10\n",
    "\n",
    "queryStrings=[\"sax\",\"harp\",\"tabla\"]\n",
    "for queryStr in queryStrings:\n",
    "    results = client.text_search(query=queryStr,fields=\"id,name,previews,tags\")\n",
    "    cnt=0\n",
    "    for sound in results:\n",
    "        #print(sound.name)\n",
    "        sound.retrieve_preview(\".\",sound.name+\".wav\")\n",
    "        os.rename(sound.name+\".wav\",queryStr+\"_\"+str(cnt)+\".wav\")\n",
    "        cnt=cnt+1\n",
    "        if cnt>=maxNumFilePerInst:\n",
    "            break\n",
    "\n",
    "print(\"Files are copied! check your folder\")"
   ]
  }
 ],
 "metadata": {
  "kernelspec": {
   "display_name": "Python 3",
   "language": "python",
   "name": "python3"
  },
  "language_info": {
   "codemirror_mode": {
    "name": "ipython",
    "version": 3
   },
   "file_extension": ".py",
   "mimetype": "text/x-python",
   "name": "python",
   "nbconvert_exporter": "python",
   "pygments_lexer": "ipython3",
   "version": "3.5.2"
  }
 },
 "nbformat": 4,
 "nbformat_minor": 1
}
