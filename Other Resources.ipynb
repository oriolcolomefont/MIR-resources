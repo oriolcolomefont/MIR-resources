{
 "cells": [
  {
   "cell_type": "markdown",
   "metadata": {},
   "source": [
    "This notebook is for downloading additional resources from other teaching materials available on the web without directly including copies in the repository."
   ]
  },
  {
   "cell_type": "code",
   "execution_count": 1,
   "metadata": {},
   "outputs": [],
   "source": [
    "import urllib.request\n",
    "import zipfile\n",
    "import os, sys,shutil"
   ]
  },
  {
   "cell_type": "code",
   "execution_count": 8,
   "metadata": {},
   "outputs": [
    {
     "name": "stdout",
     "output_type": "stream",
     "text": [
      "Downloaded:  downloadAllSARAGAContent.ipynb\n",
      "Downloaded:  tuningAnalysis_SingleRecording.ipynb\n",
      "Downloaded:  tuningAnalysis_SetOfRecordings.ipynb\n",
      "Downloaded:  visualizeAnnotations.ipynb\n"
     ]
    }
   ],
   "source": [
    "#Additional notebooks for Lecture 5: MIR for non-Western music traditions \n",
    "#Downloading resources from: Ismir-2018 tutorial titled \n",
    "# \"Computational approaches for analysis of non-Western music traditions\" by Serra, Clayton and Bozkurt\n",
    "# https://github.com/MTG/Ismir2018TutorialNotebooks\n",
    "main_repo_link = 'https://raw.githubusercontent.com/MTG/Ismir2018TutorialNotebooks/master/notebooks/' \n",
    "files = ['downloadAllSARAGAContent.ipynb',\n",
    "        'tuningAnalysis_SingleRecording.ipynb',\n",
    "        'tuningAnalysis_SetOfRecordings.ipynb',\n",
    "        'visualizeAnnotations.ipynb']\n",
    "\n",
    "for file in files:\n",
    "    #Downloading the zip file from the url\n",
    "    urllib.request.urlretrieve(main_repo_link + file, 'Lecture5_' + file)\n",
    "    print('Downloaded: ',file)"
   ]
  }
 ],
 "metadata": {
  "kernelspec": {
   "display_name": "Python 3",
   "language": "python",
   "name": "python3"
  },
  "language_info": {
   "codemirror_mode": {
    "name": "ipython",
    "version": 3
   },
   "file_extension": ".py",
   "mimetype": "text/x-python",
   "name": "python",
   "nbconvert_exporter": "python",
   "pygments_lexer": "ipython3",
   "version": "3.8.8"
  }
 },
 "nbformat": 4,
 "nbformat_minor": 2
}
