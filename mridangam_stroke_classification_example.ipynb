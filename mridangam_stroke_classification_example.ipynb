{
  "nbformat": 4,
  "nbformat_minor": 0,
  "metadata": {
    "colab": {
      "name": "mridangam_stroke_classification_example.ipynb",
      "provenance": [],
      "collapsed_sections": [],
      "toc_visible": true
    },
    "kernelspec": {
      "display_name": "Python 3",
      "language": "python",
      "name": "python3"
    },
    "language_info": {
      "codemirror_mode": {
        "name": "ipython",
        "version": 3
      },
      "file_extension": ".py",
      "mimetype": "text/x-python",
      "name": "python",
      "nbconvert_exporter": "python",
      "pygments_lexer": "ipython3",
      "version": "3.6.7"
    }
  },
  "cells": [
    {
      "cell_type": "markdown",
      "metadata": {
        "id": "cvIcZ7dYZ3A4"
      },
      "source": [
        "## Mridangam stroke type classification task using Essentia Music Extractor."
      ]
    },
    {
      "cell_type": "code",
      "metadata": {
        "id": "sliVDC3GYPcT",
        "colab": {
          "base_uri": "https://localhost:8080/"
        },
        "outputId": "51600f94-2284-421e-d8b9-db80d3e1e893"
      },
      "source": [
        "#If not installed, install Essentia. \n",
        "# This cell is for running the notebook in Colab\n",
        "import importlib.util\n",
        "if importlib.util.find_spec('essentia') is None:\n",
        "    !pip install essentia\n",
        "\n",
        "!pip install git+https://github.com/mir-dataset-loaders/mirdata.git"
      ],
      "execution_count": 2,
      "outputs": [
        {
          "output_type": "stream",
          "text": [
            "Collecting essentia\n",
            "\u001b[?25l  Downloading https://files.pythonhosted.org/packages/d6/cf/3c776d02b63fed7b0958bef2ce57b900870e2ac3f1fd8ffbb63f22d0e69e/essentia-2.1b6.dev234-cp36-cp36m-manylinux1_x86_64.whl (11.7MB)\n",
            "\u001b[K     |████████████████████████████████| 11.7MB 3.7MB/s \n",
            "\u001b[?25hRequirement already satisfied: pyyaml in /usr/local/lib/python3.6/dist-packages (from essentia) (3.13)\n",
            "Requirement already satisfied: numpy>=1.8.2 in /usr/local/lib/python3.6/dist-packages (from essentia) (1.19.5)\n",
            "Requirement already satisfied: six in /usr/local/lib/python3.6/dist-packages (from essentia) (1.15.0)\n",
            "Installing collected packages: essentia\n",
            "Successfully installed essentia-2.1b6.dev234\n",
            "Collecting git+https://github.com/mir-dataset-loaders/mirdata.git\n",
            "  Cloning https://github.com/mir-dataset-loaders/mirdata.git to /tmp/pip-req-build-r23pxw70\n",
            "  Running command git clone -q https://github.com/mir-dataset-loaders/mirdata.git /tmp/pip-req-build-r23pxw70\n",
            "Requirement already satisfied: tqdm in /usr/local/lib/python3.6/dist-packages (from mirdata==0.3.0b2) (4.41.1)\n",
            "Collecting librosa>=0.8.0\n",
            "\u001b[?25l  Downloading https://files.pythonhosted.org/packages/26/4d/c22d8ca74ca2c13cd4ac430fa353954886104321877b65fa871939e78591/librosa-0.8.0.tar.gz (183kB)\n",
            "\u001b[K     |████████████████████████████████| 184kB 4.1MB/s \n",
            "\u001b[?25hRequirement already satisfied: numpy>=1.16 in /usr/local/lib/python3.6/dist-packages (from mirdata==0.3.0b2) (1.19.5)\n",
            "Collecting jams\n",
            "\u001b[?25l  Downloading https://files.pythonhosted.org/packages/cc/1a/761a500a9512937931e325b8950195f17e5ba991c92d38d2079a2d8c5590/jams-0.3.4.tar.gz (51kB)\n",
            "\u001b[K     |████████████████████████████████| 61kB 4.1MB/s \n",
            "\u001b[?25hRequirement already satisfied: requests in /usr/local/lib/python3.6/dist-packages (from mirdata==0.3.0b2) (2.23.0)\n",
            "Collecting pretty_midi>=0.2.8\n",
            "\u001b[?25l  Downloading https://files.pythonhosted.org/packages/bc/8e/63c6e39a7a64623a9cd6aec530070c70827f6f8f40deec938f323d7b1e15/pretty_midi-0.2.9.tar.gz (5.6MB)\n",
            "\u001b[K     |████████████████████████████████| 5.6MB 6.4MB/s \n",
            "\u001b[?25hRequirement already satisfied: audioread>=2.0.0 in /usr/local/lib/python3.6/dist-packages (from librosa>=0.8.0->mirdata==0.3.0b2) (2.1.9)\n",
            "Requirement already satisfied: scipy>=1.0.0 in /usr/local/lib/python3.6/dist-packages (from librosa>=0.8.0->mirdata==0.3.0b2) (1.4.1)\n",
            "Requirement already satisfied: scikit-learn!=0.19.0,>=0.14.0 in /usr/local/lib/python3.6/dist-packages (from librosa>=0.8.0->mirdata==0.3.0b2) (0.22.2.post1)\n",
            "Requirement already satisfied: joblib>=0.14 in /usr/local/lib/python3.6/dist-packages (from librosa>=0.8.0->mirdata==0.3.0b2) (1.0.0)\n",
            "Requirement already satisfied: decorator>=3.0.0 in /usr/local/lib/python3.6/dist-packages (from librosa>=0.8.0->mirdata==0.3.0b2) (4.4.2)\n",
            "Requirement already satisfied: resampy>=0.2.2 in /usr/local/lib/python3.6/dist-packages (from librosa>=0.8.0->mirdata==0.3.0b2) (0.2.2)\n",
            "Requirement already satisfied: numba>=0.43.0 in /usr/local/lib/python3.6/dist-packages (from librosa>=0.8.0->mirdata==0.3.0b2) (0.48.0)\n",
            "Collecting soundfile>=0.9.0\n",
            "  Downloading https://files.pythonhosted.org/packages/eb/f2/3cbbbf3b96fb9fa91582c438b574cff3f45b29c772f94c400e2c99ef5db9/SoundFile-0.10.3.post1-py2.py3-none-any.whl\n",
            "Collecting pooch>=1.0\n",
            "\u001b[?25l  Downloading https://files.pythonhosted.org/packages/40/b9/9876662636ba451d4406543047c0b45ca5b4e830f931308c8274dad1db43/pooch-1.3.0-py3-none-any.whl (51kB)\n",
            "\u001b[K     |████████████████████████████████| 61kB 7.2MB/s \n",
            "\u001b[?25hRequirement already satisfied: pandas in /usr/local/lib/python3.6/dist-packages (from jams->mirdata==0.3.0b2) (1.1.5)\n",
            "Requirement already satisfied: sortedcontainers>=2.0.0 in /usr/local/lib/python3.6/dist-packages (from jams->mirdata==0.3.0b2) (2.3.0)\n",
            "Collecting jsonschema>=3.0.0\n",
            "\u001b[?25l  Downloading https://files.pythonhosted.org/packages/c5/8f/51e89ce52a085483359217bc72cdbf6e75ee595d5b1d4b5ade40c7e018b8/jsonschema-3.2.0-py2.py3-none-any.whl (56kB)\n",
            "\u001b[K     |████████████████████████████████| 61kB 6.6MB/s \n",
            "\u001b[?25hRequirement already satisfied: six in /usr/local/lib/python3.6/dist-packages (from jams->mirdata==0.3.0b2) (1.15.0)\n",
            "Collecting mir_eval>=0.5\n",
            "\u001b[?25l  Downloading https://files.pythonhosted.org/packages/0a/fe/be4f7a59ed71938e21e89f23afe93eea0d39eb3e77f83754a12028cf1a68/mir_eval-0.6.tar.gz (87kB)\n",
            "\u001b[K     |████████████████████████████████| 92kB 10.2MB/s \n",
            "\u001b[?25hRequirement already satisfied: urllib3!=1.25.0,!=1.25.1,<1.26,>=1.21.1 in /usr/local/lib/python3.6/dist-packages (from requests->mirdata==0.3.0b2) (1.24.3)\n",
            "Requirement already satisfied: chardet<4,>=3.0.2 in /usr/local/lib/python3.6/dist-packages (from requests->mirdata==0.3.0b2) (3.0.4)\n",
            "Requirement already satisfied: idna<3,>=2.5 in /usr/local/lib/python3.6/dist-packages (from requests->mirdata==0.3.0b2) (2.10)\n",
            "Requirement already satisfied: certifi>=2017.4.17 in /usr/local/lib/python3.6/dist-packages (from requests->mirdata==0.3.0b2) (2020.12.5)\n",
            "Collecting mido>=1.1.16\n",
            "\u001b[?25l  Downloading https://files.pythonhosted.org/packages/20/0a/81beb587b1ae832ea6a1901dc7c6faa380e8dd154e0a862f0a9f3d2afab9/mido-1.2.9-py2.py3-none-any.whl (52kB)\n",
            "\u001b[K     |████████████████████████████████| 61kB 6.8MB/s \n",
            "\u001b[?25hRequirement already satisfied: llvmlite<0.32.0,>=0.31.0dev0 in /usr/local/lib/python3.6/dist-packages (from numba>=0.43.0->librosa>=0.8.0->mirdata==0.3.0b2) (0.31.0)\n",
            "Requirement already satisfied: setuptools in /usr/local/lib/python3.6/dist-packages (from numba>=0.43.0->librosa>=0.8.0->mirdata==0.3.0b2) (51.1.1)\n",
            "Requirement already satisfied: cffi>=1.0 in /usr/local/lib/python3.6/dist-packages (from soundfile>=0.9.0->librosa>=0.8.0->mirdata==0.3.0b2) (1.14.4)\n",
            "Collecting appdirs\n",
            "  Downloading https://files.pythonhosted.org/packages/3b/00/2344469e2084fb287c2e0b57b72910309874c3245463acd6cf5e3db69324/appdirs-1.4.4-py2.py3-none-any.whl\n",
            "Requirement already satisfied: packaging in /usr/local/lib/python3.6/dist-packages (from pooch>=1.0->librosa>=0.8.0->mirdata==0.3.0b2) (20.8)\n",
            "Requirement already satisfied: pytz>=2017.2 in /usr/local/lib/python3.6/dist-packages (from pandas->jams->mirdata==0.3.0b2) (2018.9)\n",
            "Requirement already satisfied: python-dateutil>=2.7.3 in /usr/local/lib/python3.6/dist-packages (from pandas->jams->mirdata==0.3.0b2) (2.8.1)\n",
            "Requirement already satisfied: pyrsistent>=0.14.0 in /usr/local/lib/python3.6/dist-packages (from jsonschema>=3.0.0->jams->mirdata==0.3.0b2) (0.17.3)\n",
            "Requirement already satisfied: importlib-metadata; python_version < \"3.8\" in /usr/local/lib/python3.6/dist-packages (from jsonschema>=3.0.0->jams->mirdata==0.3.0b2) (3.3.0)\n",
            "Requirement already satisfied: attrs>=17.4.0 in /usr/local/lib/python3.6/dist-packages (from jsonschema>=3.0.0->jams->mirdata==0.3.0b2) (20.3.0)\n",
            "Requirement already satisfied: future in /usr/local/lib/python3.6/dist-packages (from mir_eval>=0.5->jams->mirdata==0.3.0b2) (0.16.0)\n",
            "Requirement already satisfied: pycparser in /usr/local/lib/python3.6/dist-packages (from cffi>=1.0->soundfile>=0.9.0->librosa>=0.8.0->mirdata==0.3.0b2) (2.20)\n",
            "Requirement already satisfied: pyparsing>=2.0.2 in /usr/local/lib/python3.6/dist-packages (from packaging->pooch>=1.0->librosa>=0.8.0->mirdata==0.3.0b2) (2.4.7)\n",
            "Requirement already satisfied: zipp>=0.5 in /usr/local/lib/python3.6/dist-packages (from importlib-metadata; python_version < \"3.8\"->jsonschema>=3.0.0->jams->mirdata==0.3.0b2) (3.4.0)\n",
            "Requirement already satisfied: typing-extensions>=3.6.4; python_version < \"3.8\" in /usr/local/lib/python3.6/dist-packages (from importlib-metadata; python_version < \"3.8\"->jsonschema>=3.0.0->jams->mirdata==0.3.0b2) (3.7.4.3)\n",
            "Building wheels for collected packages: mirdata, librosa, jams, pretty-midi, mir-eval\n",
            "  Building wheel for mirdata (setup.py) ... \u001b[?25l\u001b[?25hdone\n",
            "  Created wheel for mirdata: filename=mirdata-0.3.0b2-cp36-none-any.whl size=6128935 sha256=7368f985a919940d15f45acb161ef8d23e5ab8a7a358514e1ff76fa1e336af05\n",
            "  Stored in directory: /tmp/pip-ephem-wheel-cache-q2x26qk2/wheels/6e/be/8a/52b3da4d137c6ae533897cdb2388a94692113ce1b72a7f22af\n",
            "  Building wheel for librosa (setup.py) ... \u001b[?25l\u001b[?25hdone\n",
            "  Created wheel for librosa: filename=librosa-0.8.0-cp36-none-any.whl size=201375 sha256=d63ac90b58c8ebe15a792bee613427f95cd2ec622b9575ca36ba83bf7ebdc7df\n",
            "  Stored in directory: /root/.cache/pip/wheels/ee/10/1e/382bb4369e189938d5c02e06d10c651817da8d485bfd1647c9\n",
            "  Building wheel for jams (setup.py) ... \u001b[?25l\u001b[?25hdone\n",
            "  Created wheel for jams: filename=jams-0.3.4-cp36-none-any.whl size=64925 sha256=8f259d6fd004e7a173c84208cea03863eda844af7ff36c6551950fee29750c4f\n",
            "  Stored in directory: /root/.cache/pip/wheels/2b/b8/c7/092096a3af0eb864cca4e79a44bc883dee5b9767da2c6f8ab3\n",
            "  Building wheel for pretty-midi (setup.py) ... \u001b[?25l\u001b[?25hdone\n",
            "  Created wheel for pretty-midi: filename=pretty_midi-0.2.9-cp36-none-any.whl size=5591954 sha256=decd8f3cba71870a7f0f01dbeed0e7ae6f211804b475055b5cedacf9a0a9861d\n",
            "  Stored in directory: /root/.cache/pip/wheels/4c/a1/c6/b5697841db1112c6e5866d75a6b6bf1bef73b874782556ba66\n",
            "  Building wheel for mir-eval (setup.py) ... \u001b[?25l\u001b[?25hdone\n",
            "  Created wheel for mir-eval: filename=mir_eval-0.6-cp36-none-any.whl size=96515 sha256=b914bac4316fe36fa4b25255dc742ee11e74790b7827f73ef57d892b07faf28e\n",
            "  Stored in directory: /root/.cache/pip/wheels/49/ce/30/730fa72addf275e49d90683b01b3613048b4be3bf7ff8eb6ec\n",
            "Successfully built mirdata librosa jams pretty-midi mir-eval\n",
            "\u001b[31mERROR: nbclient 0.5.1 has requirement jupyter-client>=6.1.5, but you'll have jupyter-client 5.3.5 which is incompatible.\u001b[0m\n",
            "Installing collected packages: soundfile, appdirs, pooch, librosa, jsonschema, mir-eval, jams, mido, pretty-midi, mirdata\n",
            "  Found existing installation: librosa 0.6.3\n",
            "    Uninstalling librosa-0.6.3:\n",
            "      Successfully uninstalled librosa-0.6.3\n",
            "  Found existing installation: jsonschema 2.6.0\n",
            "    Uninstalling jsonschema-2.6.0:\n",
            "      Successfully uninstalled jsonschema-2.6.0\n",
            "Successfully installed appdirs-1.4.4 jams-0.3.4 jsonschema-3.2.0 librosa-0.8.0 mido-1.2.9 mir-eval-0.6 mirdata-0.3.0b2 pooch-1.3.0 pretty-midi-0.2.9 soundfile-0.10.3.post1\n"
          ],
          "name": "stdout"
        }
      ]
    },
    {
      "cell_type": "code",
      "metadata": {
        "id": "8RP7NclOZ3BO"
      },
      "source": [
        "#Basic imports\n",
        "import os\n",
        "import matplotlib.pyplot as plt\n",
        "import numpy as np\n",
        "\n",
        "# Imports to support MIR\n",
        "import mirdata\n",
        "import essentia.standard as ess\n",
        "import pandas as pd\n",
        "\n",
        "#Import Mridangam Stroke Dataset\n",
        "mridangam_stroke = mirdata.initialize('mridangam_stroke')\n"
      ],
      "execution_count": 3,
      "outputs": []
    },
    {
      "cell_type": "code",
      "metadata": {
        "id": "cYmYM1bcFGEW",
        "colab": {
          "base_uri": "https://localhost:8080/"
        },
        "outputId": "12fba903-21b0-4cf8-cad7-ed05a2aab9e9"
      },
      "source": [
        "from google.colab import drive\n",
        "drive.mount('/content/drive')"
      ],
      "execution_count": 4,
      "outputs": [
        {
          "output_type": "stream",
          "text": [
            "Mounted at /content/drive\n"
          ],
          "name": "stdout"
        }
      ]
    },
    {
      "cell_type": "code",
      "metadata": {
        "id": "i_y1fdZZZ3BZ",
        "colab": {
          "base_uri": "https://localhost:8080/"
        },
        "outputId": "78459ca9-b7ab-4e66-c6e3-ed121370caf1"
      },
      "source": [
        "#This cell downloads and validates the mridangam dataset\n",
        "mridangam_stroke.download()  # download the dataset\n",
        "mridangam_stroke.validate()  # validate that all the expected files are there"
      ],
      "execution_count": 5,
      "outputs": [
        {
          "output_type": "stream",
          "text": [
            "INFO: Downloading ['remote_data'] to /root/mir_datasets/mridangam_stroke\n",
            "INFO: [remote_data] downloading mridangam_stroke_1.5.zip\n",
            "124MB [00:32, 3.96MB/s]                           \n",
            "100%|██████████| 6976/6976 [00:00<00:00, 9138.78it/s]"
          ],
          "name": "stderr"
        },
        {
          "output_type": "stream",
          "text": [
            "Success: the dataset is complete and all files are valid.\n",
            "--------------------\n"
          ],
          "name": "stdout"
        },
        {
          "output_type": "stream",
          "text": [
            "\n"
          ],
          "name": "stderr"
        },
        {
          "output_type": "execute_result",
          "data": {
            "text/plain": [
              "({'tracks': {}}, {'tracks': {}})"
            ]
          },
          "metadata": {
            "tags": []
          },
          "execution_count": 5
        }
      ]
    },
    {
      "cell_type": "code",
      "metadata": {
        "id": "7qc4QShb2M71",
        "colab": {
          "base_uri": "https://localhost:8080/"
        },
        "outputId": "d362c080-e943-4ad0-9c02-438e49a53916"
      },
      "source": [
        "mridangam_ids = mridangam_stroke.track_ids  # Load Mridangam IDs\n",
        "mridangam_data = mridangam_stroke.load_tracks()  # Load Mridangam data\n",
        "\n",
        "mridangam_data[mridangam_ids[0]]  # Visualize a single track"
      ],
      "execution_count": 6,
      "outputs": [
        {
          "output_type": "execute_result",
          "data": {
            "text/plain": [
              "Track(\n",
              "  audio_path=\"/root/mir_datasets/mridangam_stroke/mridangam_stroke_1.5/B/224030__akshaylaya__bheem-b-001.wav\",\n",
              "  stroke_name=\"bheem\",\n",
              "  tonic=\"B\",\n",
              "  track_id=\"224030\",\n",
              "  audio: The track's audio\n",
              "\n",
              "        Returns,\n",
              ")"
            ]
          },
          "metadata": {
            "tags": []
          },
          "execution_count": 6
        }
      ]
    },
    {
      "cell_type": "code",
      "metadata": {
        "colab": {
          "base_uri": "https://localhost:8080/"
        },
        "id": "qqYgBYSoF6Zw",
        "outputId": "bceb2664-8246-4587-fff8-f624de80223f"
      },
      "source": [
        "# Get complete list of different strokes\n",
        "stroke_names = []\n",
        "for i in mridangam_ids:\n",
        "    stroke_names.append(mridangam_data[i].stroke_name)\n",
        "stroke_names = np.unique(stroke_names)\n",
        "\n",
        "print(stroke_names)"
      ],
      "execution_count": 7,
      "outputs": [
        {
          "output_type": "stream",
          "text": [
            "['bheem' 'cha' 'dheem' 'dhin' 'num' 'ta' 'tha' 'tham' 'thi' 'thom']\n"
          ],
          "name": "stdout"
        }
      ]
    },
    {
      "cell_type": "code",
      "metadata": {
        "id": "AfXV-LblZ3Bj",
        "colab": {
          "base_uri": "https://localhost:8080/"
        },
        "outputId": "728f6691-e642-4f9e-8a3a-ab5e55983e5d"
      },
      "source": [
        "# You can create a dictionary using stroke type as keys\n",
        "stroke_dict = {item: [] for item in stroke_names}\n",
        "for i in mridangam_ids:\n",
        "    stroke_dict[mridangam_data[i].stroke_name].append(mridangam_data[i].audio_path)\n",
        "\n",
        "stroke_dict['bheem']"
      ],
      "execution_count": 8,
      "outputs": [
        {
          "output_type": "execute_result",
          "data": {
            "text/plain": [
              "['/root/mir_datasets/mridangam_stroke/mridangam_stroke_1.5/B/224030__akshaylaya__bheem-b-001.wav',\n",
              " '/root/mir_datasets/mridangam_stroke/mridangam_stroke_1.5/B/224031__akshaylaya__bheem-b-002.wav',\n",
              " '/root/mir_datasets/mridangam_stroke/mridangam_stroke_1.5/B/224032__akshaylaya__bheem-b-003.wav',\n",
              " '/root/mir_datasets/mridangam_stroke/mridangam_stroke_1.5/B/224033__akshaylaya__bheem-b-004.wav',\n",
              " '/root/mir_datasets/mridangam_stroke/mridangam_stroke_1.5/B/224034__akshaylaya__bheem-b-005.wav',\n",
              " '/root/mir_datasets/mridangam_stroke/mridangam_stroke_1.5/C/225356__akshaylaya__bheem-c-001.wav',\n",
              " '/root/mir_datasets/mridangam_stroke/mridangam_stroke_1.5/C/225357__akshaylaya__bheem-c-002.wav',\n",
              " '/root/mir_datasets/mridangam_stroke/mridangam_stroke_1.5/C/225358__akshaylaya__bheem-c-003.wav',\n",
              " '/root/mir_datasets/mridangam_stroke/mridangam_stroke_1.5/C#/226488__akshaylaya__bheem-csh-001.wav',\n",
              " '/root/mir_datasets/mridangam_stroke/mridangam_stroke_1.5/D#/228625__akshaylaya__bheem-dsh-001.wav',\n",
              " '/root/mir_datasets/mridangam_stroke/mridangam_stroke_1.5/D#/228626__akshaylaya__bheem-dsh-002.wav',\n",
              " '/root/mir_datasets/mridangam_stroke/mridangam_stroke_1.5/D#/228627__akshaylaya__bheem-dsh-003.wav',\n",
              " '/root/mir_datasets/mridangam_stroke/mridangam_stroke_1.5/D#/228628__akshaylaya__bheem-dsh-004.wav',\n",
              " '/root/mir_datasets/mridangam_stroke/mridangam_stroke_1.5/D#/228629__akshaylaya__bheem-dsh-005.wav',\n",
              " '/root/mir_datasets/mridangam_stroke/mridangam_stroke_1.5/D#/228630__akshaylaya__bheem-dsh-006.wav',\n",
              " '/root/mir_datasets/mridangam_stroke/mridangam_stroke_1.5/D#/228631__akshaylaya__bheem-dsh-007.wav',\n",
              " '/root/mir_datasets/mridangam_stroke/mridangam_stroke_1.5/D#/228632__akshaylaya__bheem-dsh-008.wav',\n",
              " '/root/mir_datasets/mridangam_stroke/mridangam_stroke_1.5/D#/228633__akshaylaya__bheem-dsh-009.wav',\n",
              " '/root/mir_datasets/mridangam_stroke/mridangam_stroke_1.5/D#/228634__akshaylaya__bheem-dsh-010.wav',\n",
              " '/root/mir_datasets/mridangam_stroke/mridangam_stroke_1.5/D#/228635__akshaylaya__bheem-dsh-011.wav',\n",
              " '/root/mir_datasets/mridangam_stroke/mridangam_stroke_1.5/D#/228636__akshaylaya__bheem-dsh-012.wav',\n",
              " '/root/mir_datasets/mridangam_stroke/mridangam_stroke_1.5/D#/228637__akshaylaya__bheem-dsh-013.wav',\n",
              " '/root/mir_datasets/mridangam_stroke/mridangam_stroke_1.5/D#/228638__akshaylaya__bheem-dsh-014.wav',\n",
              " '/root/mir_datasets/mridangam_stroke/mridangam_stroke_1.5/D#/228639__akshaylaya__bheem-dsh-015.wav',\n",
              " '/root/mir_datasets/mridangam_stroke/mridangam_stroke_1.5/E/230136__akshaylaya__bheem-e-001.wav',\n",
              " '/root/mir_datasets/mridangam_stroke/mridangam_stroke_1.5/E/230137__akshaylaya__bheem-e-002.wav',\n",
              " '/root/mir_datasets/mridangam_stroke/mridangam_stroke_1.5/E/230138__akshaylaya__bheem-e-003.wav',\n",
              " '/root/mir_datasets/mridangam_stroke/mridangam_stroke_1.5/E/230139__akshaylaya__bheem-e-004.wav',\n",
              " '/root/mir_datasets/mridangam_stroke/mridangam_stroke_1.5/E/230140__akshaylaya__bheem-e-005.wav',\n",
              " '/root/mir_datasets/mridangam_stroke/mridangam_stroke_1.5/E/230141__akshaylaya__bheem-e-006.wav',\n",
              " '/root/mir_datasets/mridangam_stroke/mridangam_stroke_1.5/E/230142__akshaylaya__bheem-e-007.wav',\n",
              " '/root/mir_datasets/mridangam_stroke/mridangam_stroke_1.5/E/230143__akshaylaya__bheem-e-008.wav',\n",
              " '/root/mir_datasets/mridangam_stroke/mridangam_stroke_1.5/E/230144__akshaylaya__bheem-e-009.wav',\n",
              " '/root/mir_datasets/mridangam_stroke/mridangam_stroke_1.5/E/230145__akshaylaya__bheem-e-010.wav',\n",
              " '/root/mir_datasets/mridangam_stroke/mridangam_stroke_1.5/E/230146__akshaylaya__bheem-e-011.wav',\n",
              " '/root/mir_datasets/mridangam_stroke/mridangam_stroke_1.5/E/230147__akshaylaya__bheem-e-012.wav',\n",
              " '/root/mir_datasets/mridangam_stroke/mridangam_stroke_1.5/E/230148__akshaylaya__bheem-e-013.wav',\n",
              " '/root/mir_datasets/mridangam_stroke/mridangam_stroke_1.5/E/230149__akshaylaya__bheem-e-014.wav',\n",
              " '/root/mir_datasets/mridangam_stroke/mridangam_stroke_1.5/E/230150__akshaylaya__bheem-e-015.wav',\n",
              " '/root/mir_datasets/mridangam_stroke/mridangam_stroke_1.5/E/230151__akshaylaya__bheem-e-016.wav',\n",
              " '/root/mir_datasets/mridangam_stroke/mridangam_stroke_1.5/E/230152__akshaylaya__bheem-e-017.wav',\n",
              " '/root/mir_datasets/mridangam_stroke/mridangam_stroke_1.5/E/230153__akshaylaya__bheem-e-018.wav',\n",
              " '/root/mir_datasets/mridangam_stroke/mridangam_stroke_1.5/E/230154__akshaylaya__bheem-e-019.wav',\n",
              " '/root/mir_datasets/mridangam_stroke/mridangam_stroke_1.5/E/230155__akshaylaya__bheem-e-020.wav',\n",
              " '/root/mir_datasets/mridangam_stroke/mridangam_stroke_1.5/E/230156__akshaylaya__bheem-e-021.wav',\n",
              " '/root/mir_datasets/mridangam_stroke/mridangam_stroke_1.5/E/230157__akshaylaya__bheem-e-022.wav',\n",
              " '/root/mir_datasets/mridangam_stroke/mridangam_stroke_1.5/E/230158__akshaylaya__bheem-e-023.wav',\n",
              " '/root/mir_datasets/mridangam_stroke/mridangam_stroke_1.5/E/230159__akshaylaya__bheem-e-024.wav',\n",
              " '/root/mir_datasets/mridangam_stroke/mridangam_stroke_1.5/E/230160__akshaylaya__bheem-e-025.wav']"
            ]
          },
          "metadata": {
            "tags": []
          },
          "execution_count": 8
        }
      ]
    },
    {
      "cell_type": "code",
      "metadata": {
        "id": "Vr2f3y2dZ3By",
        "colab": {
          "base_uri": "https://localhost:8080/",
          "height": 110
        },
        "outputId": "437ec471-f780-4c04-b78b-70452cfb773b"
      },
      "source": [
        "# Raw-data preprocess analysis parameters\n",
        "_, fs = mridangam_data[mridangam_ids[0]].audio\n",
        "\n",
        "num_strokes = len(stroke_dict.keys())\n",
        "print(\"Plot waveforms of random samples of each stroke type...\")\n",
        "plt.figure(1, figsize=(5 * num_strokes, 3))\n",
        "file_ind_inlist = 0 # 0: let's take the first file in the list for sample plots\n",
        "for i, stroke in enumerate(stroke_dict.keys()):\n",
        "    sample_file = stroke_dict[stroke][file_ind_inlist]\n",
        "    x = ess.MonoLoader(filename = sample_file, sampleRate = fs)()\n",
        "    \n",
        "    plt.subplot(1,num_strokes,(i+1))\n",
        "    plt.plot(x)\n",
        "    plt.title(stroke)"
      ],
      "execution_count": 10,
      "outputs": [
        {
          "output_type": "stream",
          "text": [
            "Plot waveforms of random samples of each stroke type...\n"
          ],
          "name": "stdout"
        },
        {
          "output_type": "display_data",
          "data": {
            "image/png": "[encoded data removed]",
            "text/plain": [
              "<Figure size 3600x216 with 10 Axes>"
            ]
          },
          "metadata": {
            "tags": [],
            "needs_background": "light"
          }
        }
      ]
    },
    {
      "cell_type": "markdown",
      "metadata": {
        "id": "kceA0MUMGaMm"
      },
      "source": [
        "### Preprocessing of raw data: Segmentation, splitting, alignment,... "
      ]
    },
    {
      "cell_type": "markdown",
      "metadata": {
        "id": "3jT1ghfoGWJr"
      },
      "source": [
        "While common preprocessing steps (such as amplitude normalisation) exist, there is often some dataset and task specific preprocessing tasks required for grouping, cleaning, and format change. \n",
        "\n",
        "In the downloaded dataset, recordings include a sequence of isolated notes played in sequence which could be split into isolated notes. We would like to investigate the option of splitting using a fixed energy threshold (which would help us seperate notes using the silence regions). Let's define a function to perform this operation and visualize some samples to observe the effectiveness of it."
      ]
    },
    {
      "cell_type": "code",
      "metadata": {
        "id": "Zxh3GIATiJzm"
      },
      "source": [
        "# Raw-data preprocess analysis parameters\n",
        "windowSize = 1024\n",
        "hopSize = 512\n",
        "NRG_threshold_ratio = 0.005 #threshold expressed as ratio with respect to the maximum value\n",
        "#Let's put in a container to be able to use as a single argument in function calls\n",
        "params = {\"fs\":fs, \"windowSize\":windowSize, \"hopSize\":hopSize, \"NRG_threshold_ratio\": NRG_threshold_ratio}"
      ],
      "execution_count": 11,
      "outputs": []
    },
    {
      "cell_type": "code",
      "metadata": {
        "id": "amlqoQ_RiM7y"
      },
      "source": [
        "#Function definition\n",
        "def split_file(filename, params):\n",
        "    '''Function to define split boundaries based on a fixed energy threshold\n",
        "    '''\n",
        "    x = ess.MonoLoader(filename = filename, sampleRate = fs)()\n",
        "    NRG = [];\n",
        "    #Main windowing and feature extraction loop\n",
        "    for frame in ess.FrameGenerator(x, frameSize = windowSize, hopSize = hopSize, startFromZero = True):\n",
        "        NRG.append(ess.Energy()(frame))\n",
        "    NRG = np.array(NRG)\n",
        "    NRG = NRG / np.max(NRG)\n",
        "    \n",
        "    #Applying energy threshold to decide wave split boundaries\n",
        "    split_decision_func = np.zeros_like(NRG)\n",
        "    split_decision_func[NRG > NRG_threshold_ratio] = 1\n",
        "    #Setting segment boundaries\n",
        "    #Inserting a zero at the beginning since we will decide the transitions using a diff function\n",
        "    split_decision_func = np.insert(split_decision_func, 0, 0)\n",
        "    diff_split_decision = np.diff(split_decision_func)\n",
        "    #Start indexes: transition from 0 to 1\n",
        "    start_indexes = np.nonzero(diff_split_decision > 0)[0] * hopSize\n",
        "    #Stop indexes: transition from 1 to 0\n",
        "    stop_indexes = np.nonzero(diff_split_decision < 0)[0] * hopSize\n",
        "    return (x, NRG, split_decision_func, start_indexes, stop_indexes)"
      ],
      "execution_count": 12,
      "outputs": []
    },
    {
      "cell_type": "code",
      "metadata": {
        "colab": {
          "base_uri": "https://localhost:8080/",
          "height": 110
        },
        "id": "47Akom3niaUD",
        "outputId": "8898c7c7-4ce3-4e09-b27d-abff20898de3"
      },
      "source": [
        "num_strokes = len(stroke_names)\n",
        "print(\"Sample plots for waveform versus energy and splits based on energy threshold\")\n",
        "\n",
        "file_indexes = [1]\n",
        "for file_ind_inlist in file_indexes:\n",
        "    plt.figure(file_ind_inlist, figsize=(5 * num_strokes, 3))\n",
        "    for i, stroke in enumerate(stroke_dict.keys()):\n",
        "        sample_file = stroke_dict[stroke][file_ind_inlist]\n",
        "        (x, NRG, split_decision_func, start_indexes, stop_indexes) = split_file(sample_file, params)\n",
        "        #Plotting functions for checking the split decisions\n",
        "        plt.subplot(1,num_strokes,(i+1))\n",
        "        plt.title(stroke)\n",
        "        plt.plot(x, label = 'sound waveform')\n",
        "        plt.plot(np.arange(NRG.size) * hopSize, NRG, 'g', label = 'NRG')\n",
        "        plt.plot(np.arange(split_decision_func.size) * hopSize, split_decision_func,'r', label = 'split function')\n",
        "        plt.vlines(start_indexes, ymin = -0.5, ymax = 0, colors='b', linestyles='solid', label='Segment start')\n",
        "        plt.vlines(stop_indexes, ymin = -0.5, ymax = 0, colors='k', linestyles='dashed', label='Segment stop')\n",
        "\n",
        "plt.legend(loc=\"best\");\n"
      ],
      "execution_count": 13,
      "outputs": [
        {
          "output_type": "stream",
          "text": [
            "Sample plots for waveform versus energy and splits based on energy threshold\n"
          ],
          "name": "stdout"
        },
        {
          "output_type": "display_data",
          "data": {
            "image/png": "[encoded data removed]",
            "text/plain": [
              "<Figure size 3600x216 with 10 Axes>"
            ]
          },
          "metadata": {
            "tags": [],
            "needs_background": "light"
          }
        }
      ]
    },
    {
      "cell_type": "code",
      "metadata": {
        "colab": {
          "base_uri": "https://localhost:8080/"
        },
        "id": "FGIUqV_xk2v7",
        "outputId": "1de0c4be-bbf7-4ab1-a2b3-71c23173b1f6"
      },
      "source": [
        "main_data_dir = '/content'\n",
        "segments_dir = os.path.join(main_data_dir,'segments')\n",
        "if not os.path.exists(segments_dir): #creating the directory\n",
        "    os.mkdir(segments_dir)\n",
        "\n",
        "segment_files = []\n",
        "for stroke, files in stroke_dict.items():\n",
        "    for sample_file in files:\n",
        "        #Get file id\n",
        "        stroke_id =  sample_file.split('__')[-1].split('.')[0]\n",
        "        x = ess.MonoLoader(filename = sample_file, sampleRate = fs)()\n",
        "        (x, NRG, split_decision_func, start_indexes, stop_indexes) = split_file(sample_file, params)\n",
        "        #Croping segments\n",
        "        for start, stop in zip(start_indexes, stop_indexes):\n",
        "            x_seg = x[start: stop]\n",
        "            #Final check for amplitude (to avoid silent segments selection due to noise in split function)\n",
        "            if(np.max(np.abs(x_seg)) > 0.05):\n",
        "                #Amplitude normalisation\n",
        "                x_seg = x_seg / np.max(np.abs(x_seg))\n",
        "                filename = os.path.join(segments_dir, stroke_id + '.wav')\n",
        "                ess.MonoWriter(filename = filename, format = 'wav', sampleRate = fs)(x_seg)\n",
        "                segment_files.append(filename)\n",
        "\n",
        "print(len(segment_files),'segment files created')"
      ],
      "execution_count": 15,
      "outputs": [
        {
          "output_type": "stream",
          "text": [
            "6854 segment files created\n"
          ],
          "name": "stdout"
        }
      ]
    },
    {
      "cell_type": "code",
      "metadata": {
        "id": "JQkOjXfTnJdi"
      },
      "source": [
        "#If required, you can use this cell to delete all files in a given folder\n",
        "def delete_files_in_dir(dir_name):\n",
        "    '''Deleting all files in a directory\n",
        "    '''\n",
        "    for root, dirs, files in os.walk(dir_name):\n",
        "        for file in files:\n",
        "            file_name = os.path.join(root,file)\n",
        "            os.remove(file_name);print(file_name, 'removed');\n",
        "\n",
        "#delete_files_in_dir(segments_dir)"
      ],
      "execution_count": null,
      "outputs": []
    },
    {
      "cell_type": "markdown",
      "metadata": {
        "id": "pmTShfNLZ3Cg"
      },
      "source": [
        "## Feature extraction \n",
        "\n",
        "Let's compute a list of common features for each of the files and form a data frame including features and categories. We will be using the [MusicExtractor function of Essentia](https://essentia.upf.edu/documentation/reference/std_MusicExtractor.html) that would compute a large number of features commonly used in MIR literature. \n",
        "\n",
        "Essentia-MusicExtractor extracts a large number of features. For simplicity, let's only keep low-level descriptors which are represented with a single scalar value as our feature set and discard other features."
      ]
    },
    {
      "cell_type": "code",
      "metadata": {
        "id": "TvOzjojcZ3Co",
        "colab": {
          "base_uri": "https://localhost:8080/"
        },
        "outputId": "abf4008e-ae9f-496b-ff04-301e7a14ffa1"
      },
      "source": [
        "# Print descriptors to be considered\n",
        "features, features_frames = ess.MusicExtractor(lowlevelSilentFrames='drop',\n",
        "                                                      lowlevelFrameSize = 2048,\n",
        "                                                      lowlevelHopSize = 1024,\n",
        "                                                      lowlevelStats = ['mean', 'stdev'])(mridangam_data['224030'].audio_path)\n",
        "\n",
        "scalar_lowlevel_descriptors = [descriptor for descriptor in features.descriptorNames() if 'lowlevel' in descriptor and isinstance(features[descriptor], float)]\n",
        "print(\"Subset of features to be considered:\\n\",scalar_lowlevel_descriptors)"
      ],
      "execution_count": 17,
      "outputs": [
        {
          "output_type": "stream",
          "text": [
            "Subset of features to be considered:\n",
            " ['lowlevel.average_loudness', 'lowlevel.barkbands_crest.mean', 'lowlevel.barkbands_crest.stdev', 'lowlevel.barkbands_flatness_db.mean', 'lowlevel.barkbands_flatness_db.stdev', 'lowlevel.barkbands_kurtosis.mean', 'lowlevel.barkbands_kurtosis.stdev', 'lowlevel.barkbands_skewness.mean', 'lowlevel.barkbands_skewness.stdev', 'lowlevel.barkbands_spread.mean', 'lowlevel.barkbands_spread.stdev', 'lowlevel.dissonance.mean', 'lowlevel.dissonance.stdev', 'lowlevel.dynamic_complexity', 'lowlevel.erbbands_crest.mean', 'lowlevel.erbbands_crest.stdev', 'lowlevel.erbbands_flatness_db.mean', 'lowlevel.erbbands_flatness_db.stdev', 'lowlevel.erbbands_kurtosis.mean', 'lowlevel.erbbands_kurtosis.stdev', 'lowlevel.erbbands_skewness.mean', 'lowlevel.erbbands_skewness.stdev', 'lowlevel.erbbands_spread.mean', 'lowlevel.erbbands_spread.stdev', 'lowlevel.hfc.mean', 'lowlevel.hfc.stdev', 'lowlevel.loudness_ebu128.integrated', 'lowlevel.loudness_ebu128.loudness_range', 'lowlevel.loudness_ebu128.momentary.mean', 'lowlevel.loudness_ebu128.momentary.stdev', 'lowlevel.loudness_ebu128.short_term.mean', 'lowlevel.loudness_ebu128.short_term.stdev', 'lowlevel.melbands_crest.mean', 'lowlevel.melbands_crest.stdev', 'lowlevel.melbands_flatness_db.mean', 'lowlevel.melbands_flatness_db.stdev', 'lowlevel.melbands_kurtosis.mean', 'lowlevel.melbands_kurtosis.stdev', 'lowlevel.melbands_skewness.mean', 'lowlevel.melbands_skewness.stdev', 'lowlevel.melbands_spread.mean', 'lowlevel.melbands_spread.stdev', 'lowlevel.pitch_salience.mean', 'lowlevel.pitch_salience.stdev', 'lowlevel.silence_rate_20dB.mean', 'lowlevel.silence_rate_20dB.stdev', 'lowlevel.silence_rate_30dB.mean', 'lowlevel.silence_rate_30dB.stdev', 'lowlevel.silence_rate_60dB.mean', 'lowlevel.silence_rate_60dB.stdev', 'lowlevel.spectral_centroid.mean', 'lowlevel.spectral_centroid.stdev', 'lowlevel.spectral_complexity.mean', 'lowlevel.spectral_complexity.stdev', 'lowlevel.spectral_decrease.mean', 'lowlevel.spectral_decrease.stdev', 'lowlevel.spectral_energy.mean', 'lowlevel.spectral_energy.stdev', 'lowlevel.spectral_energyband_high.mean', 'lowlevel.spectral_energyband_high.stdev', 'lowlevel.spectral_energyband_low.mean', 'lowlevel.spectral_energyband_low.stdev', 'lowlevel.spectral_energyband_middle_high.mean', 'lowlevel.spectral_energyband_middle_high.stdev', 'lowlevel.spectral_energyband_middle_low.mean', 'lowlevel.spectral_energyband_middle_low.stdev', 'lowlevel.spectral_entropy.mean', 'lowlevel.spectral_entropy.stdev', 'lowlevel.spectral_flux.mean', 'lowlevel.spectral_flux.stdev', 'lowlevel.spectral_kurtosis.mean', 'lowlevel.spectral_kurtosis.stdev', 'lowlevel.spectral_rms.mean', 'lowlevel.spectral_rms.stdev', 'lowlevel.spectral_rolloff.mean', 'lowlevel.spectral_rolloff.stdev', 'lowlevel.spectral_skewness.mean', 'lowlevel.spectral_skewness.stdev', 'lowlevel.spectral_spread.mean', 'lowlevel.spectral_spread.stdev', 'lowlevel.spectral_strongpeak.mean', 'lowlevel.spectral_strongpeak.stdev', 'lowlevel.zerocrossingrate.mean', 'lowlevel.zerocrossingrate.stdev']\n"
          ],
          "name": "stdout"
        }
      ]
    },
    {
      "cell_type": "markdown",
      "metadata": {
        "id": "o5aBdpBtZ3Cv"
      },
      "source": [
        "Running musicextractor for all files, keeping a subset of features, writing to an output file: data.csv"
      ]
    },
    {
      "cell_type": "code",
      "metadata": {
        "id": "POoJ0K8BZ3Cz",
        "colab": {
          "base_uri": "https://localhost:8080/"
        },
        "outputId": "0b033622-469a-450c-881c-71afb8bf7d07"
      },
      "source": [
        "# Extracting features and writing in data.csv file in the segments folder\n",
        "#  each line in the data.csv file represents a sample with features and the class information as the last element\n",
        "data_file = '/content/data.csv'\n",
        "file_count = 0\n",
        "with open(data_file, 'w') as writer:\n",
        "    #adding column names as the first line in csv\n",
        "    line2write = ','.join(scalar_lowlevel_descriptors + ['stroke']).replace('lowlevel.','') + '\\n'\n",
        "    writer.write(line2write)\n",
        "    for filename in segment_files:\n",
        "        file_count +=1\n",
        "        if file_count % 20 == 0: #print name of a file every 20 files\n",
        "            print(file_count, \"files processed, current file: \", filename)\n",
        "\n",
        "        #Compute and write features for file\n",
        "        features, features_frames = ess.MusicExtractor(lowlevelSilentFrames='drop',\n",
        "                                                      lowlevelFrameSize = 2048,\n",
        "                                                      lowlevelHopSize = 1024,\n",
        "                                                      lowlevelStats = ['mean', 'stdev'])(filename)\n",
        "        selected_features = [features[descriptor] for descriptor in scalar_lowlevel_descriptors]\n",
        "        label = filename.split('/')[-1].split('.')[0].split('-')[0]\n",
        "        line2write = str(selected_features)[1:-1] + ',' + label + '\\n'\n",
        "        writer.write(line2write)\n",
        "print(\"A total of \", file_count, \"files processed\")"
      ],
      "execution_count": 19,
      "outputs": [
        {
          "output_type": "stream",
          "text": [
            "20 files processed, current file:  /content/segments/bheem-dsh-014.wav\n",
            "40 files processed, current file:  /content/segments/bheem-e-019.wav\n",
            "60 files processed, current file:  /content/segments/cha-b-015.wav\n",
            "80 files processed, current file:  /content/segments/cha-b-037.wav\n",
            "100 files processed, current file:  /content/segments/cha-c-002.wav\n",
            "120 files processed, current file:  /content/segments/cha-c-023.wav\n",
            "140 files processed, current file:  /content/segments/cha-c-045.wav\n",
            "160 files processed, current file:  /content/segments/cha-csh-022.wav\n",
            "180 files processed, current file:  /content/segments/cha-csh-052.wav\n",
            "200 files processed, current file:  /content/segments/cha-d-019.wav\n",
            "220 files processed, current file:  /content/segments/cha-d-040.wav\n",
            "240 files processed, current file:  /content/segments/cha-dsh-001.wav\n",
            "260 files processed, current file:  /content/segments/cha-dsh-021.wav\n",
            "280 files processed, current file:  /content/segments/cha-dsh-042.wav\n",
            "300 files processed, current file:  /content/segments/cha-e-013.wav\n",
            "320 files processed, current file:  /content/segments/cha-e-033.wav\n",
            "340 files processed, current file:  /content/segments/cha-e-053.wav\n",
            "360 files processed, current file:  /content/segments/dheem-b-022.wav\n",
            "380 files processed, current file:  /content/segments/dheem-b-042.wav\n",
            "400 files processed, current file:  /content/segments/dheem-b-062.wav\n",
            "420 files processed, current file:  /content/segments/dheem-b-083.wav\n",
            "440 files processed, current file:  /content/segments/dheem-b-112.wav\n",
            "460 files processed, current file:  /content/segments/dheem-c-005.wav\n",
            "480 files processed, current file:  /content/segments/dheem-c-025.wav\n",
            "500 files processed, current file:  /content/segments/dheem-c-045.wav\n",
            "520 files processed, current file:  /content/segments/dheem-c-065.wav\n",
            "540 files processed, current file:  /content/segments/dheem-c-085.wav\n",
            "560 files processed, current file:  /content/segments/dheem-csh-020.wav\n",
            "580 files processed, current file:  /content/segments/dheem-csh-042.wav\n",
            "600 files processed, current file:  /content/segments/dheem-csh-063.wav\n",
            "620 files processed, current file:  /content/segments/dheem-d-006.wav\n",
            "640 files processed, current file:  /content/segments/dheem-dsh-014.wav\n",
            "660 files processed, current file:  /content/segments/dheem-dsh-034.wav\n",
            "680 files processed, current file:  /content/segments/dheem-dsh-054.wav\n",
            "700 files processed, current file:  /content/segments/dheem-dsh-075.wav\n",
            "720 files processed, current file:  /content/segments/dheem-dsh-095.wav\n",
            "740 files processed, current file:  /content/segments/dheem-e-004.wav\n",
            "760 files processed, current file:  /content/segments/dheem-e-024.wav\n",
            "780 files processed, current file:  /content/segments/dheem-e-044.wav\n",
            "800 files processed, current file:  /content/segments/dhin-b-013.wav\n",
            "820 files processed, current file:  /content/segments/dhin-b-041.wav\n",
            "840 files processed, current file:  /content/segments/dhin-c-026.wav\n",
            "860 files processed, current file:  /content/segments/dhin-csh-053.wav\n",
            "880 files processed, current file:  /content/segments/dhin-dsh-013.wav\n",
            "900 files processed, current file:  /content/segments/dhin-dsh-033.wav\n",
            "920 files processed, current file:  /content/segments/dhin-dsh-053.wav\n",
            "940 files processed, current file:  /content/segments/dhin-dsh-074.wav\n",
            "960 files processed, current file:  /content/segments/dhin-dsh-095.wav\n",
            "980 files processed, current file:  /content/segments/dhin-dsh-115.wav\n",
            "1000 files processed, current file:  /content/segments/dhin-dsh-135.wav\n",
            "1020 files processed, current file:  /content/segments/dhin-dsh-155.wav\n",
            "1040 files processed, current file:  /content/segments/dhin-dsh-175.wav\n",
            "1060 files processed, current file:  /content/segments/dhin-dsh-195.wav\n",
            "1080 files processed, current file:  /content/segments/dhin-e-017.wav\n",
            "1100 files processed, current file:  /content/segments/dhin-e-037.wav\n",
            "1120 files processed, current file:  /content/segments/dhin-e-057.wav\n",
            "1140 files processed, current file:  /content/segments/dhin-e-077.wav\n",
            "1160 files processed, current file:  /content/segments/dhin-e-097.wav\n",
            "1180 files processed, current file:  /content/segments/num-b-004.wav\n",
            "1200 files processed, current file:  /content/segments/num-b-024.wav\n",
            "1220 files processed, current file:  /content/segments/num-b-048.wav\n",
            "1240 files processed, current file:  /content/segments/num-b-073.wav\n",
            "1260 files processed, current file:  /content/segments/num-c-012.wav\n",
            "1280 files processed, current file:  /content/segments/num-c-032.wav\n",
            "1300 files processed, current file:  /content/segments/num-c-052.wav\n",
            "1320 files processed, current file:  /content/segments/num-c-073.wav\n",
            "1340 files processed, current file:  /content/segments/num-c-095.wav\n",
            "1360 files processed, current file:  /content/segments/num-csh-018.wav\n",
            "1380 files processed, current file:  /content/segments/num-csh-038.wav\n",
            "1400 files processed, current file:  /content/segments/num-csh-058.wav\n",
            "1420 files processed, current file:  /content/segments/num-csh-081.wav\n",
            "1440 files processed, current file:  /content/segments/num-d-004.wav\n",
            "1460 files processed, current file:  /content/segments/num-dsh-006.wav\n",
            "1480 files processed, current file:  /content/segments/num-dsh-026.wav\n",
            "1500 files processed, current file:  /content/segments/num-dsh-046.wav\n",
            "1520 files processed, current file:  /content/segments/num-dsh-066.wav\n",
            "1540 files processed, current file:  /content/segments/num-dsh-086.wav\n",
            "1560 files processed, current file:  /content/segments/num-dsh-106.wav\n",
            "1580 files processed, current file:  /content/segments/num-dsh-126.wav\n",
            "1600 files processed, current file:  /content/segments/num-e-003.wav\n",
            "1620 files processed, current file:  /content/segments/num-e-023.wav\n",
            "1640 files processed, current file:  /content/segments/num-e-044.wav\n",
            "1660 files processed, current file:  /content/segments/ta-b-004.wav\n",
            "1680 files processed, current file:  /content/segments/ta-b-024.wav\n",
            "1700 files processed, current file:  /content/segments/ta-b-044.wav\n",
            "1720 files processed, current file:  /content/segments/ta-b-064.wav\n",
            "1740 files processed, current file:  /content/segments/ta-b-084.wav\n",
            "1760 files processed, current file:  /content/segments/ta-b-104.wav\n",
            "1780 files processed, current file:  /content/segments/ta-b-124.wav\n",
            "1800 files processed, current file:  /content/segments/ta-b-144.wav\n",
            "1820 files processed, current file:  /content/segments/ta-c-019.wav\n",
            "1840 files processed, current file:  /content/segments/ta-c-039.wav\n",
            "1860 files processed, current file:  /content/segments/ta-c-059.wav\n",
            "1880 files processed, current file:  /content/segments/ta-c-079.wav\n",
            "1900 files processed, current file:  /content/segments/ta-c-099.wav\n",
            "1920 files processed, current file:  /content/segments/ta-c-119.wav\n",
            "1940 files processed, current file:  /content/segments/ta-c-139.wav\n",
            "1960 files processed, current file:  /content/segments/ta-c-159.wav\n",
            "1980 files processed, current file:  /content/segments/ta-csh-014.wav\n",
            "2000 files processed, current file:  /content/segments/ta-csh-035.wav\n",
            "2020 files processed, current file:  /content/segments/ta-csh-056.wav\n",
            "2040 files processed, current file:  /content/segments/ta-csh-076.wav\n",
            "2060 files processed, current file:  /content/segments/ta-csh-096.wav\n",
            "2080 files processed, current file:  /content/segments/ta-csh-116.wav\n",
            "2100 files processed, current file:  /content/segments/ta-csh-137.wav\n",
            "2120 files processed, current file:  /content/segments/ta-csh-157.wav\n",
            "2140 files processed, current file:  /content/segments/ta-csh-178.wav\n",
            "2160 files processed, current file:  /content/segments/ta-csh-198.wav\n",
            "2180 files processed, current file:  /content/segments/ta-d-001.wav\n",
            "2200 files processed, current file:  /content/segments/ta-d-021.wav\n",
            "2220 files processed, current file:  /content/segments/ta-d-041.wav\n",
            "2240 files processed, current file:  /content/segments/ta-d-061.wav\n",
            "2260 files processed, current file:  /content/segments/ta-d-082.wav\n",
            "2280 files processed, current file:  /content/segments/ta-d-102.wav\n",
            "2300 files processed, current file:  /content/segments/ta-d-122.wav\n",
            "2320 files processed, current file:  /content/segments/ta-d-144.wav\n",
            "2340 files processed, current file:  /content/segments/ta-d-164.wav\n",
            "2360 files processed, current file:  /content/segments/ta-dsh-004.wav\n",
            "2380 files processed, current file:  /content/segments/ta-dsh-024.wav\n",
            "2400 files processed, current file:  /content/segments/ta-dsh-044.wav\n",
            "2420 files processed, current file:  /content/segments/ta-dsh-064.wav\n",
            "2440 files processed, current file:  /content/segments/ta-dsh-084.wav\n",
            "2460 files processed, current file:  /content/segments/ta-dsh-105.wav\n",
            "2480 files processed, current file:  /content/segments/ta-e-008.wav\n",
            "2500 files processed, current file:  /content/segments/ta-e-028.wav\n",
            "2520 files processed, current file:  /content/segments/ta-e-048.wav\n",
            "2540 files processed, current file:  /content/segments/ta-e-068.wav\n",
            "2560 files processed, current file:  /content/segments/ta-e-088.wav\n",
            "2580 files processed, current file:  /content/segments/tha-b-003.wav\n",
            "2600 files processed, current file:  /content/segments/tha-b-024.wav\n",
            "2620 files processed, current file:  /content/segments/tha-b-044.wav\n",
            "2640 files processed, current file:  /content/segments/tha-b-064.wav\n",
            "2660 files processed, current file:  /content/segments/tha-b-084.wav\n",
            "2680 files processed, current file:  /content/segments/tha-b-104.wav\n",
            "2700 files processed, current file:  /content/segments/tha-b-124.wav\n",
            "2720 files processed, current file:  /content/segments/tha-b-144.wav\n",
            "2740 files processed, current file:  /content/segments/tha-b-164.wav\n",
            "2760 files processed, current file:  /content/segments/tha-b-184.wav\n",
            "2780 files processed, current file:  /content/segments/tha-c-005.wav\n",
            "2800 files processed, current file:  /content/segments/tha-c-025.wav\n",
            "2820 files processed, current file:  /content/segments/tha-c-045.wav\n",
            "2840 files processed, current file:  /content/segments/tha-c-065.wav\n",
            "2860 files processed, current file:  /content/segments/tha-c-085.wav\n",
            "2880 files processed, current file:  /content/segments/tha-c-105.wav\n",
            "2900 files processed, current file:  /content/segments/tha-c-125.wav\n",
            "2920 files processed, current file:  /content/segments/tha-c-145.wav\n",
            "2940 files processed, current file:  /content/segments/tha-c-165.wav\n",
            "2960 files processed, current file:  /content/segments/tha-csh-001.wav\n",
            "2980 files processed, current file:  /content/segments/tha-csh-021.wav\n",
            "3000 files processed, current file:  /content/segments/tha-csh-041.wav\n",
            "3020 files processed, current file:  /content/segments/tha-csh-061.wav\n",
            "3040 files processed, current file:  /content/segments/tha-csh-082.wav\n",
            "3060 files processed, current file:  /content/segments/tha-csh-108.wav\n",
            "3080 files processed, current file:  /content/segments/tha-csh-128.wav\n",
            "3100 files processed, current file:  /content/segments/tha-csh-149.wav\n",
            "3120 files processed, current file:  /content/segments/tha-csh-169.wav\n",
            "3140 files processed, current file:  /content/segments/tha-csh-189.wav\n",
            "3160 files processed, current file:  /content/segments/tha-csh-209.wav\n",
            "3180 files processed, current file:  /content/segments/tha-d-018.wav\n",
            "3200 files processed, current file:  /content/segments/tha-d-038.wav\n",
            "3220 files processed, current file:  /content/segments/tha-d-065.wav\n",
            "3240 files processed, current file:  /content/segments/tha-d-086.wav\n",
            "3260 files processed, current file:  /content/segments/tha-d-106.wav\n",
            "3280 files processed, current file:  /content/segments/tha-d-129.wav\n",
            "3300 files processed, current file:  /content/segments/tha-d-149.wav\n",
            "3320 files processed, current file:  /content/segments/tha-d-169.wav\n",
            "3340 files processed, current file:  /content/segments/tha-d-189.wav\n",
            "3360 files processed, current file:  /content/segments/tha-d-210.wav\n",
            "3380 files processed, current file:  /content/segments/tha-dsh-006.wav\n",
            "3400 files processed, current file:  /content/segments/tha-dsh-026.wav\n",
            "3420 files processed, current file:  /content/segments/tha-dsh-047.wav\n",
            "3440 files processed, current file:  /content/segments/tha-dsh-069.wav\n",
            "3460 files processed, current file:  /content/segments/tha-dsh-090.wav\n",
            "3480 files processed, current file:  /content/segments/tha-dsh-110.wav\n",
            "3500 files processed, current file:  /content/segments/tha-dsh-130.wav\n",
            "3520 files processed, current file:  /content/segments/tha-dsh-150.wav\n",
            "3540 files processed, current file:  /content/segments/tha-dsh-170.wav\n",
            "3560 files processed, current file:  /content/segments/tha-dsh-190.wav\n",
            "3580 files processed, current file:  /content/segments/tha-e-016.wav\n",
            "3600 files processed, current file:  /content/segments/tha-e-036.wav\n",
            "3620 files processed, current file:  /content/segments/tha-e-056.wav\n",
            "3640 files processed, current file:  /content/segments/tha-e-076.wav\n",
            "3660 files processed, current file:  /content/segments/tha-e-096.wav\n",
            "3680 files processed, current file:  /content/segments/tha-e-116.wav\n",
            "3700 files processed, current file:  /content/segments/tha-e-136.wav\n",
            "3720 files processed, current file:  /content/segments/tha-e-157.wav\n",
            "3740 files processed, current file:  /content/segments/tham-b-017.wav\n",
            "3760 files processed, current file:  /content/segments/tham-b-038.wav\n",
            "3780 files processed, current file:  /content/segments/tham-b-058.wav\n",
            "3800 files processed, current file:  /content/segments/tham-b-078.wav\n",
            "3820 files processed, current file:  /content/segments/tham-c-010.wav\n",
            "3840 files processed, current file:  /content/segments/tham-c-031.wav\n",
            "3860 files processed, current file:  /content/segments/tham-c-057.wav\n",
            "3880 files processed, current file:  /content/segments/tham-c-077.wav\n",
            "3900 files processed, current file:  /content/segments/tham-csh-017.wav\n",
            "3920 files processed, current file:  /content/segments/tham-d-005.wav\n",
            "3940 files processed, current file:  /content/segments/tham-dsh-001.wav\n",
            "3960 files processed, current file:  /content/segments/tham-dsh-021.wav\n",
            "3980 files processed, current file:  /content/segments/tham-dsh-041.wav\n",
            "4000 files processed, current file:  /content/segments/tham-dsh-061.wav\n",
            "4020 files processed, current file:  /content/segments/tham-dsh-081.wav\n",
            "4040 files processed, current file:  /content/segments/tham-e-010.wav\n",
            "4060 files processed, current file:  /content/segments/tham-e-030.wav\n",
            "4080 files processed, current file:  /content/segments/tham-e-050.wav\n",
            "4100 files processed, current file:  /content/segments/thi-b-020.wav\n",
            "4120 files processed, current file:  /content/segments/thi-b-040.wav\n",
            "4140 files processed, current file:  /content/segments/thi-b-060.wav\n",
            "4160 files processed, current file:  /content/segments/thi-b-080.wav\n",
            "4180 files processed, current file:  /content/segments/thi-b-100.wav\n",
            "4200 files processed, current file:  /content/segments/thi-b-120.wav\n",
            "4220 files processed, current file:  /content/segments/thi-b-142.wav\n",
            "4240 files processed, current file:  /content/segments/thi-b-162.wav\n",
            "4260 files processed, current file:  /content/segments/thi-b-182.wav\n",
            "4280 files processed, current file:  /content/segments/thi-b-202.wav\n",
            "4300 files processed, current file:  /content/segments/thi-b-222.wav\n",
            "4320 files processed, current file:  /content/segments/thi-b-243.wav\n",
            "4340 files processed, current file:  /content/segments/thi-b-263.wav\n",
            "4360 files processed, current file:  /content/segments/thi-b-283.wav\n",
            "4380 files processed, current file:  /content/segments/thi-b-303.wav\n",
            "4400 files processed, current file:  /content/segments/thi-b-323.wav\n",
            "4420 files processed, current file:  /content/segments/thi-b-343.wav\n",
            "4440 files processed, current file:  /content/segments/thi-b-363.wav\n",
            "4460 files processed, current file:  /content/segments/thi-b-384.wav\n",
            "4480 files processed, current file:  /content/segments/thi-b-406.wav\n",
            "4500 files processed, current file:  /content/segments/thi-b-426.wav\n",
            "4520 files processed, current file:  /content/segments/thi-c-008.wav\n",
            "4540 files processed, current file:  /content/segments/thi-c-028.wav\n",
            "4560 files processed, current file:  /content/segments/thi-c-050.wav\n",
            "4580 files processed, current file:  /content/segments/thi-c-076.wav\n",
            "4600 files processed, current file:  /content/segments/thi-c-096.wav\n",
            "4620 files processed, current file:  /content/segments/thi-c-117.wav\n",
            "4640 files processed, current file:  /content/segments/thi-c-137.wav\n",
            "4660 files processed, current file:  /content/segments/thi-c-157.wav\n",
            "4680 files processed, current file:  /content/segments/thi-c-177.wav\n",
            "4700 files processed, current file:  /content/segments/thi-c-197.wav\n",
            "4720 files processed, current file:  /content/segments/thi-c-217.wav\n",
            "4740 files processed, current file:  /content/segments/thi-c-237.wav\n",
            "4760 files processed, current file:  /content/segments/thi-c-257.wav\n",
            "4780 files processed, current file:  /content/segments/thi-c-277.wav\n",
            "4800 files processed, current file:  /content/segments/thi-c-297.wav\n",
            "4820 files processed, current file:  /content/segments/thi-c-317.wav\n",
            "4840 files processed, current file:  /content/segments/thi-csh-003.wav\n",
            "4860 files processed, current file:  /content/segments/thi-csh-024.wav\n",
            "4880 files processed, current file:  /content/segments/thi-csh-044.wav\n",
            "4900 files processed, current file:  /content/segments/thi-csh-064.wav\n",
            "4920 files processed, current file:  /content/segments/thi-csh-087.wav\n",
            "4940 files processed, current file:  /content/segments/thi-csh-108.wav\n",
            "4960 files processed, current file:  /content/segments/thi-csh-128.wav\n",
            "4980 files processed, current file:  /content/segments/thi-csh-149.wav\n",
            "5000 files processed, current file:  /content/segments/thi-csh-169.wav\n",
            "5020 files processed, current file:  /content/segments/thi-csh-189.wav\n",
            "5040 files processed, current file:  /content/segments/thi-csh-209.wav\n",
            "5060 files processed, current file:  /content/segments/thi-csh-230.wav\n",
            "5080 files processed, current file:  /content/segments/thi-csh-251.wav\n",
            "5100 files processed, current file:  /content/segments/thi-csh-278.wav\n",
            "5120 files processed, current file:  /content/segments/thi-csh-301.wav\n",
            "5140 files processed, current file:  /content/segments/thi-csh-322.wav\n",
            "5160 files processed, current file:  /content/segments/thi-csh-342.wav\n",
            "5180 files processed, current file:  /content/segments/thi-csh-362.wav\n",
            "5200 files processed, current file:  /content/segments/thi-d-013.wav\n",
            "5220 files processed, current file:  /content/segments/thi-d-033.wav\n",
            "5240 files processed, current file:  /content/segments/thi-d-056.wav\n",
            "5260 files processed, current file:  /content/segments/thi-d-080.wav\n",
            "5280 files processed, current file:  /content/segments/thi-d-100.wav\n",
            "5300 files processed, current file:  /content/segments/thi-d-120.wav\n",
            "5320 files processed, current file:  /content/segments/thi-d-140.wav\n",
            "5340 files processed, current file:  /content/segments/thi-d-160.wav\n",
            "5360 files processed, current file:  /content/segments/thi-d-180.wav\n",
            "5380 files processed, current file:  /content/segments/thi-d-200.wav\n",
            "5400 files processed, current file:  /content/segments/thi-d-220.wav\n",
            "5420 files processed, current file:  /content/segments/thi-d-241.wav\n",
            "5440 files processed, current file:  /content/segments/thi-d-261.wav\n",
            "5460 files processed, current file:  /content/segments/thi-d-281.wav\n",
            "5480 files processed, current file:  /content/segments/thi-dsh-018.wav\n",
            "5500 files processed, current file:  /content/segments/thi-dsh-038.wav\n",
            "5520 files processed, current file:  /content/segments/thi-dsh-058.wav\n",
            "5540 files processed, current file:  /content/segments/thi-dsh-078.wav\n",
            "5560 files processed, current file:  /content/segments/thi-dsh-098.wav\n",
            "5580 files processed, current file:  /content/segments/thi-dsh-118.wav\n",
            "5600 files processed, current file:  /content/segments/thi-dsh-139.wav\n",
            "5620 files processed, current file:  /content/segments/thi-dsh-159.wav\n",
            "5640 files processed, current file:  /content/segments/thi-dsh-179.wav\n",
            "5660 files processed, current file:  /content/segments/thi-dsh-202.wav\n",
            "5680 files processed, current file:  /content/segments/thi-dsh-222.wav\n",
            "5700 files processed, current file:  /content/segments/thi-dsh-242.wav\n",
            "5720 files processed, current file:  /content/segments/thi-dsh-265.wav\n",
            "5740 files processed, current file:  /content/segments/thi-dsh-285.wav\n",
            "5760 files processed, current file:  /content/segments/thi-dsh-305.wav\n",
            "5780 files processed, current file:  /content/segments/thi-dsh-325.wav\n",
            "5800 files processed, current file:  /content/segments/thi-dsh-345.wav\n",
            "5820 files processed, current file:  /content/segments/thi-dsh-365.wav\n",
            "5840 files processed, current file:  /content/segments/thi-dsh-385.wav\n",
            "5860 files processed, current file:  /content/segments/thi-dsh-407.wav\n",
            "5880 files processed, current file:  /content/segments/thi-dsh-427.wav\n",
            "5900 files processed, current file:  /content/segments/thi-e-003.wav\n",
            "5920 files processed, current file:  /content/segments/thi-e-023.wav\n",
            "5940 files processed, current file:  /content/segments/thi-e-044.wav\n",
            "5960 files processed, current file:  /content/segments/thi-e-064.wav\n",
            "5980 files processed, current file:  /content/segments/thi-e-084.wav\n",
            "6000 files processed, current file:  /content/segments/thi-e-104.wav\n",
            "6020 files processed, current file:  /content/segments/thi-e-124.wav\n",
            "6040 files processed, current file:  /content/segments/thi-e-144.wav\n",
            "6060 files processed, current file:  /content/segments/thi-e-164.wav\n",
            "6080 files processed, current file:  /content/segments/thi-e-184.wav\n",
            "6100 files processed, current file:  /content/segments/thi-e-204.wav\n",
            "6120 files processed, current file:  /content/segments/thi-e-224.wav\n",
            "6140 files processed, current file:  /content/segments/thi-e-244.wav\n",
            "6160 files processed, current file:  /content/segments/thi-e-264.wav\n",
            "6180 files processed, current file:  /content/segments/thi-e-284.wav\n",
            "6200 files processed, current file:  /content/segments/thi-e-304.wav\n",
            "6220 files processed, current file:  /content/segments/thi-e-324.wav\n",
            "6240 files processed, current file:  /content/segments/thi-e-344.wav\n",
            "6260 files processed, current file:  /content/segments/thom-b-019.wav\n",
            "6280 files processed, current file:  /content/segments/thom-b-039.wav\n",
            "6300 files processed, current file:  /content/segments/thom-b-061.wav\n",
            "6320 files processed, current file:  /content/segments/thom-b-082.wav\n",
            "6340 files processed, current file:  /content/segments/thom-b-105.wav\n",
            "6360 files processed, current file:  /content/segments/thom-b-125.wav\n",
            "6380 files processed, current file:  /content/segments/thom-c-009.wav\n",
            "6400 files processed, current file:  /content/segments/thom-c-030.wav\n",
            "6420 files processed, current file:  /content/segments/thom-c-050.wav\n",
            "6440 files processed, current file:  /content/segments/thom-c-070.wav\n",
            "6460 files processed, current file:  /content/segments/thom-csh-010.wav\n",
            "6480 files processed, current file:  /content/segments/thom-csh-031.wav\n",
            "6500 files processed, current file:  /content/segments/thom-csh-051.wav\n",
            "6520 files processed, current file:  /content/segments/thom-d-002.wav\n",
            "6540 files processed, current file:  /content/segments/thom-d-022.wav\n",
            "6560 files processed, current file:  /content/segments/thom-d-044.wav\n",
            "6580 files processed, current file:  /content/segments/thom-d-064.wav\n",
            "6600 files processed, current file:  /content/segments/thom-d-084.wav\n",
            "6620 files processed, current file:  /content/segments/thom-dsh-015.wav\n",
            "6640 files processed, current file:  /content/segments/thom-dsh-036.wav\n",
            "6660 files processed, current file:  /content/segments/thom-dsh-058.wav\n",
            "6680 files processed, current file:  /content/segments/thom-dsh-078.wav\n",
            "6700 files processed, current file:  /content/segments/thom-dsh-108.wav\n",
            "6720 files processed, current file:  /content/segments/thom-e-001.wav\n",
            "6740 files processed, current file:  /content/segments/thom-e-021.wav\n",
            "6760 files processed, current file:  /content/segments/thom-e-041.wav\n",
            "6780 files processed, current file:  /content/segments/thom-e-061.wav\n",
            "6800 files processed, current file:  /content/segments/thom-e-081.wav\n",
            "6820 files processed, current file:  /content/segments/thom-e-101.wav\n",
            "6840 files processed, current file:  /content/segments/thom-e-121.wav\n",
            "A total of  6854 files processed\n"
          ],
          "name": "stdout"
        }
      ]
    },
    {
      "cell_type": "code",
      "metadata": {
        "id": "CaJDBafwZ3C-",
        "colab": {
          "base_uri": "https://localhost:8080/",
          "height": 256
        },
        "outputId": "53b4b48f-d118-4e47-e918-9ef17418cf80"
      },
      "source": [
        "#Read data with pandas module\n",
        "data = pd.read_csv(data_file)\n",
        "\n",
        "#Plot first lines of our data\n",
        "data.head()"
      ],
      "execution_count": 20,
      "outputs": [
        {
          "output_type": "execute_result",
          "data": {
            "text/html": [
              "<div>\n",
              "<style scoped>\n",
              "    .dataframe tbody tr th:only-of-type {\n",
              "        vertical-align: middle;\n",
              "    }\n",
              "\n",
              "    .dataframe tbody tr th {\n",
              "        vertical-align: top;\n",
              "    }\n",
              "\n",
              "    .dataframe thead th {\n",
              "        text-align: right;\n",
              "    }\n",
              "</style>\n",
              "<table border=\"1\" class=\"dataframe\">\n",
              "  <thead>\n",
              "    <tr style=\"text-align: right;\">\n",
              "      <th></th>\n",
              "      <th>average_loudness</th>\n",
              "      <th>barkbands_crest.mean</th>\n",
              "      <th>barkbands_crest.stdev</th>\n",
              "      <th>barkbands_flatness_db.mean</th>\n",
              "      <th>barkbands_flatness_db.stdev</th>\n",
              "      <th>barkbands_kurtosis.mean</th>\n",
              "      <th>barkbands_kurtosis.stdev</th>\n",
              "      <th>barkbands_skewness.mean</th>\n",
              "      <th>barkbands_skewness.stdev</th>\n",
              "      <th>barkbands_spread.mean</th>\n",
              "      <th>barkbands_spread.stdev</th>\n",
              "      <th>dissonance.mean</th>\n",
              "      <th>dissonance.stdev</th>\n",
              "      <th>dynamic_complexity</th>\n",
              "      <th>erbbands_crest.mean</th>\n",
              "      <th>erbbands_crest.stdev</th>\n",
              "      <th>erbbands_flatness_db.mean</th>\n",
              "      <th>erbbands_flatness_db.stdev</th>\n",
              "      <th>erbbands_kurtosis.mean</th>\n",
              "      <th>erbbands_kurtosis.stdev</th>\n",
              "      <th>erbbands_skewness.mean</th>\n",
              "      <th>erbbands_skewness.stdev</th>\n",
              "      <th>erbbands_spread.mean</th>\n",
              "      <th>erbbands_spread.stdev</th>\n",
              "      <th>hfc.mean</th>\n",
              "      <th>hfc.stdev</th>\n",
              "      <th>loudness_ebu128.integrated</th>\n",
              "      <th>loudness_ebu128.loudness_range</th>\n",
              "      <th>loudness_ebu128.momentary.mean</th>\n",
              "      <th>loudness_ebu128.momentary.stdev</th>\n",
              "      <th>loudness_ebu128.short_term.mean</th>\n",
              "      <th>loudness_ebu128.short_term.stdev</th>\n",
              "      <th>melbands_crest.mean</th>\n",
              "      <th>melbands_crest.stdev</th>\n",
              "      <th>melbands_flatness_db.mean</th>\n",
              "      <th>melbands_flatness_db.stdev</th>\n",
              "      <th>melbands_kurtosis.mean</th>\n",
              "      <th>melbands_kurtosis.stdev</th>\n",
              "      <th>melbands_skewness.mean</th>\n",
              "      <th>melbands_skewness.stdev</th>\n",
              "      <th>...</th>\n",
              "      <th>silence_rate_20dB.stdev</th>\n",
              "      <th>silence_rate_30dB.mean</th>\n",
              "      <th>silence_rate_30dB.stdev</th>\n",
              "      <th>silence_rate_60dB.mean</th>\n",
              "      <th>silence_rate_60dB.stdev</th>\n",
              "      <th>spectral_centroid.mean</th>\n",
              "      <th>spectral_centroid.stdev</th>\n",
              "      <th>spectral_complexity.mean</th>\n",
              "      <th>spectral_complexity.stdev</th>\n",
              "      <th>spectral_decrease.mean</th>\n",
              "      <th>spectral_decrease.stdev</th>\n",
              "      <th>spectral_energy.mean</th>\n",
              "      <th>spectral_energy.stdev</th>\n",
              "      <th>spectral_energyband_high.mean</th>\n",
              "      <th>spectral_energyband_high.stdev</th>\n",
              "      <th>spectral_energyband_low.mean</th>\n",
              "      <th>spectral_energyband_low.stdev</th>\n",
              "      <th>spectral_energyband_middle_high.mean</th>\n",
              "      <th>spectral_energyband_middle_high.stdev</th>\n",
              "      <th>spectral_energyband_middle_low.mean</th>\n",
              "      <th>spectral_energyband_middle_low.stdev</th>\n",
              "      <th>spectral_entropy.mean</th>\n",
              "      <th>spectral_entropy.stdev</th>\n",
              "      <th>spectral_flux.mean</th>\n",
              "      <th>spectral_flux.stdev</th>\n",
              "      <th>spectral_kurtosis.mean</th>\n",
              "      <th>spectral_kurtosis.stdev</th>\n",
              "      <th>spectral_rms.mean</th>\n",
              "      <th>spectral_rms.stdev</th>\n",
              "      <th>spectral_rolloff.mean</th>\n",
              "      <th>spectral_rolloff.stdev</th>\n",
              "      <th>spectral_skewness.mean</th>\n",
              "      <th>spectral_skewness.stdev</th>\n",
              "      <th>spectral_spread.mean</th>\n",
              "      <th>spectral_spread.stdev</th>\n",
              "      <th>spectral_strongpeak.mean</th>\n",
              "      <th>spectral_strongpeak.stdev</th>\n",
              "      <th>zerocrossingrate.mean</th>\n",
              "      <th>zerocrossingrate.stdev</th>\n",
              "      <th>stroke</th>\n",
              "    </tr>\n",
              "  </thead>\n",
              "  <tbody>\n",
              "    <tr>\n",
              "      <th>0</th>\n",
              "      <td>0.990684</td>\n",
              "      <td>15.045286</td>\n",
              "      <td>1.854457</td>\n",
              "      <td>0.372195</td>\n",
              "      <td>0.078171</td>\n",
              "      <td>155.698410</td>\n",
              "      <td>116.191475</td>\n",
              "      <td>7.763121</td>\n",
              "      <td>2.870029</td>\n",
              "      <td>1.459613</td>\n",
              "      <td>1.988782</td>\n",
              "      <td>0.384449</td>\n",
              "      <td>0.035729</td>\n",
              "      <td>3.081390</td>\n",
              "      <td>23.001263</td>\n",
              "      <td>6.743838</td>\n",
              "      <td>0.259211</td>\n",
              "      <td>0.051726</td>\n",
              "      <td>18.463203</td>\n",
              "      <td>18.154703</td>\n",
              "      <td>3.524484</td>\n",
              "      <td>2.027169</td>\n",
              "      <td>14.154247</td>\n",
              "      <td>9.713717</td>\n",
              "      <td>3.785260</td>\n",
              "      <td>5.626436</td>\n",
              "      <td>-17.972549</td>\n",
              "      <td>0.0</td>\n",
              "      <td>-18.916914</td>\n",
              "      <td>2.906923</td>\n",
              "      <td>-23.871981</td>\n",
              "      <td>0.0</td>\n",
              "      <td>22.157772</td>\n",
              "      <td>2.388509</td>\n",
              "      <td>0.508498</td>\n",
              "      <td>0.089175</td>\n",
              "      <td>110.114670</td>\n",
              "      <td>49.826588</td>\n",
              "      <td>5.980231</td>\n",
              "      <td>1.438695</td>\n",
              "      <td>...</td>\n",
              "      <td>0.0</td>\n",
              "      <td>1.000000</td>\n",
              "      <td>0.000000</td>\n",
              "      <td>0.269231</td>\n",
              "      <td>0.443560</td>\n",
              "      <td>177.982590</td>\n",
              "      <td>79.151657</td>\n",
              "      <td>3.384615</td>\n",
              "      <td>3.991115</td>\n",
              "      <td>-5.029452e-09</td>\n",
              "      <td>6.021744e-09</td>\n",
              "      <td>0.019326</td>\n",
              "      <td>0.023204</td>\n",
              "      <td>0.000011</td>\n",
              "      <td>0.000035</td>\n",
              "      <td>0.016561</td>\n",
              "      <td>0.018647</td>\n",
              "      <td>0.000400</td>\n",
              "      <td>0.001060</td>\n",
              "      <td>0.008619</td>\n",
              "      <td>0.011005</td>\n",
              "      <td>5.166698</td>\n",
              "      <td>0.773860</td>\n",
              "      <td>0.031672</td>\n",
              "      <td>0.052147</td>\n",
              "      <td>28.880934</td>\n",
              "      <td>9.020713</td>\n",
              "      <td>0.003634</td>\n",
              "      <td>0.002377</td>\n",
              "      <td>184.688629</td>\n",
              "      <td>104.330238</td>\n",
              "      <td>4.505211</td>\n",
              "      <td>0.720354</td>\n",
              "      <td>3449997.75</td>\n",
              "      <td>2149743.75</td>\n",
              "      <td>0.623849</td>\n",
              "      <td>0.403493</td>\n",
              "      <td>0.008395</td>\n",
              "      <td>0.002812</td>\n",
              "      <td>bheem</td>\n",
              "    </tr>\n",
              "    <tr>\n",
              "      <th>1</th>\n",
              "      <td>0.990684</td>\n",
              "      <td>14.898280</td>\n",
              "      <td>2.280415</td>\n",
              "      <td>0.391228</td>\n",
              "      <td>0.083327</td>\n",
              "      <td>133.322479</td>\n",
              "      <td>80.732307</td>\n",
              "      <td>6.428464</td>\n",
              "      <td>1.788766</td>\n",
              "      <td>1.242456</td>\n",
              "      <td>2.026722</td>\n",
              "      <td>0.385100</td>\n",
              "      <td>0.022905</td>\n",
              "      <td>4.722807</td>\n",
              "      <td>24.075768</td>\n",
              "      <td>6.496977</td>\n",
              "      <td>0.277370</td>\n",
              "      <td>0.058520</td>\n",
              "      <td>29.212107</td>\n",
              "      <td>24.449263</td>\n",
              "      <td>4.452918</td>\n",
              "      <td>2.262118</td>\n",
              "      <td>10.936172</td>\n",
              "      <td>10.461652</td>\n",
              "      <td>4.415651</td>\n",
              "      <td>5.037334</td>\n",
              "      <td>-15.419962</td>\n",
              "      <td>0.0</td>\n",
              "      <td>-15.889473</td>\n",
              "      <td>2.056010</td>\n",
              "      <td>-22.573931</td>\n",
              "      <td>0.0</td>\n",
              "      <td>21.784616</td>\n",
              "      <td>2.784943</td>\n",
              "      <td>0.527868</td>\n",
              "      <td>0.094261</td>\n",
              "      <td>99.897247</td>\n",
              "      <td>43.619888</td>\n",
              "      <td>5.009456</td>\n",
              "      <td>1.415897</td>\n",
              "      <td>...</td>\n",
              "      <td>0.0</td>\n",
              "      <td>0.950000</td>\n",
              "      <td>0.217945</td>\n",
              "      <td>0.200000</td>\n",
              "      <td>0.400000</td>\n",
              "      <td>160.514008</td>\n",
              "      <td>44.933578</td>\n",
              "      <td>3.050000</td>\n",
              "      <td>3.338787</td>\n",
              "      <td>-7.063661e-09</td>\n",
              "      <td>7.256550e-09</td>\n",
              "      <td>0.027060</td>\n",
              "      <td>0.027833</td>\n",
              "      <td>0.000003</td>\n",
              "      <td>0.000006</td>\n",
              "      <td>0.024027</td>\n",
              "      <td>0.023854</td>\n",
              "      <td>0.000197</td>\n",
              "      <td>0.000440</td>\n",
              "      <td>0.011819</td>\n",
              "      <td>0.012786</td>\n",
              "      <td>4.916273</td>\n",
              "      <td>0.704710</td>\n",
              "      <td>0.040183</td>\n",
              "      <td>0.057602</td>\n",
              "      <td>35.628502</td>\n",
              "      <td>11.007059</td>\n",
              "      <td>0.004391</td>\n",
              "      <td>0.002669</td>\n",
              "      <td>170.112305</td>\n",
              "      <td>54.856857</td>\n",
              "      <td>5.026465</td>\n",
              "      <td>0.800214</td>\n",
              "      <td>3145255.50</td>\n",
              "      <td>2228094.00</td>\n",
              "      <td>0.763095</td>\n",
              "      <td>0.469566</td>\n",
              "      <td>0.006445</td>\n",
              "      <td>0.001386</td>\n",
              "      <td>bheem</td>\n",
              "    </tr>\n",
              "    <tr>\n",
              "      <th>2</th>\n",
              "      <td>0.990684</td>\n",
              "      <td>14.472402</td>\n",
              "      <td>2.531276</td>\n",
              "      <td>0.355560</td>\n",
              "      <td>0.088243</td>\n",
              "      <td>104.285133</td>\n",
              "      <td>69.695946</td>\n",
              "      <td>5.909654</td>\n",
              "      <td>2.103197</td>\n",
              "      <td>1.706020</td>\n",
              "      <td>2.225517</td>\n",
              "      <td>0.368965</td>\n",
              "      <td>0.042397</td>\n",
              "      <td>0.000000</td>\n",
              "      <td>21.715366</td>\n",
              "      <td>7.841555</td>\n",
              "      <td>0.253213</td>\n",
              "      <td>0.056765</td>\n",
              "      <td>18.648695</td>\n",
              "      <td>16.467173</td>\n",
              "      <td>3.559798</td>\n",
              "      <td>1.866340</td>\n",
              "      <td>13.307286</td>\n",
              "      <td>11.045646</td>\n",
              "      <td>5.321993</td>\n",
              "      <td>6.361315</td>\n",
              "      <td>-14.960384</td>\n",
              "      <td>0.0</td>\n",
              "      <td>-14.960384</td>\n",
              "      <td>0.000000</td>\n",
              "      <td>-23.710999</td>\n",
              "      <td>0.0</td>\n",
              "      <td>20.911642</td>\n",
              "      <td>3.709286</td>\n",
              "      <td>0.488403</td>\n",
              "      <td>0.096959</td>\n",
              "      <td>102.251648</td>\n",
              "      <td>60.140495</td>\n",
              "      <td>5.307984</td>\n",
              "      <td>1.535789</td>\n",
              "      <td>...</td>\n",
              "      <td>0.0</td>\n",
              "      <td>1.000000</td>\n",
              "      <td>0.000000</td>\n",
              "      <td>0.214286</td>\n",
              "      <td>0.410326</td>\n",
              "      <td>180.786880</td>\n",
              "      <td>69.366158</td>\n",
              "      <td>2.928571</td>\n",
              "      <td>2.939006</td>\n",
              "      <td>-7.304727e-09</td>\n",
              "      <td>6.862479e-09</td>\n",
              "      <td>0.028052</td>\n",
              "      <td>0.026443</td>\n",
              "      <td>0.000010</td>\n",
              "      <td>0.000027</td>\n",
              "      <td>0.022770</td>\n",
              "      <td>0.019730</td>\n",
              "      <td>0.000253</td>\n",
              "      <td>0.000508</td>\n",
              "      <td>0.013326</td>\n",
              "      <td>0.014265</td>\n",
              "      <td>5.363946</td>\n",
              "      <td>0.839481</td>\n",
              "      <td>0.055734</td>\n",
              "      <td>0.068736</td>\n",
              "      <td>27.409437</td>\n",
              "      <td>9.399188</td>\n",
              "      <td>0.004501</td>\n",
              "      <td>0.002667</td>\n",
              "      <td>184.570312</td>\n",
              "      <td>67.465721</td>\n",
              "      <td>4.368257</td>\n",
              "      <td>0.802403</td>\n",
              "      <td>4535479.50</td>\n",
              "      <td>5375152.00</td>\n",
              "      <td>0.743537</td>\n",
              "      <td>0.436122</td>\n",
              "      <td>0.005964</td>\n",
              "      <td>0.001557</td>\n",
              "      <td>bheem</td>\n",
              "    </tr>\n",
              "    <tr>\n",
              "      <th>3</th>\n",
              "      <td>0.990684</td>\n",
              "      <td>15.161849</td>\n",
              "      <td>1.408289</td>\n",
              "      <td>0.372373</td>\n",
              "      <td>0.072589</td>\n",
              "      <td>196.814804</td>\n",
              "      <td>126.745842</td>\n",
              "      <td>8.861809</td>\n",
              "      <td>3.526605</td>\n",
              "      <td>1.458768</td>\n",
              "      <td>2.069885</td>\n",
              "      <td>0.382804</td>\n",
              "      <td>0.026602</td>\n",
              "      <td>5.379347</td>\n",
              "      <td>22.982801</td>\n",
              "      <td>6.337996</td>\n",
              "      <td>0.258865</td>\n",
              "      <td>0.047681</td>\n",
              "      <td>26.654076</td>\n",
              "      <td>21.613844</td>\n",
              "      <td>4.136274</td>\n",
              "      <td>2.181055</td>\n",
              "      <td>11.937102</td>\n",
              "      <td>10.046105</td>\n",
              "      <td>3.359879</td>\n",
              "      <td>5.490990</td>\n",
              "      <td>-21.564079</td>\n",
              "      <td>0.0</td>\n",
              "      <td>-23.425644</td>\n",
              "      <td>4.135911</td>\n",
              "      <td>-26.239792</td>\n",
              "      <td>0.0</td>\n",
              "      <td>21.981190</td>\n",
              "      <td>1.877216</td>\n",
              "      <td>0.514171</td>\n",
              "      <td>0.084506</td>\n",
              "      <td>95.676468</td>\n",
              "      <td>36.759228</td>\n",
              "      <td>5.083558</td>\n",
              "      <td>1.296833</td>\n",
              "      <td>...</td>\n",
              "      <td>0.0</td>\n",
              "      <td>0.962963</td>\n",
              "      <td>0.188853</td>\n",
              "      <td>0.333333</td>\n",
              "      <td>0.471404</td>\n",
              "      <td>178.308121</td>\n",
              "      <td>85.019371</td>\n",
              "      <td>3.407408</td>\n",
              "      <td>3.519884</td>\n",
              "      <td>-4.513393e-09</td>\n",
              "      <td>6.114628e-09</td>\n",
              "      <td>0.017339</td>\n",
              "      <td>0.023562</td>\n",
              "      <td>0.000010</td>\n",
              "      <td>0.000033</td>\n",
              "      <td>0.014859</td>\n",
              "      <td>0.018601</td>\n",
              "      <td>0.000406</td>\n",
              "      <td>0.001066</td>\n",
              "      <td>0.007449</td>\n",
              "      <td>0.010630</td>\n",
              "      <td>5.174582</td>\n",
              "      <td>0.792426</td>\n",
              "      <td>0.030172</td>\n",
              "      <td>0.053116</td>\n",
              "      <td>31.291861</td>\n",
              "      <td>10.591228</td>\n",
              "      <td>0.003364</td>\n",
              "      <td>0.002366</td>\n",
              "      <td>176.253250</td>\n",
              "      <td>93.040909</td>\n",
              "      <td>4.677686</td>\n",
              "      <td>0.927602</td>\n",
              "      <td>3632668.25</td>\n",
              "      <td>3444228.50</td>\n",
              "      <td>0.574670</td>\n",
              "      <td>0.406087</td>\n",
              "      <td>0.008301</td>\n",
              "      <td>0.001870</td>\n",
              "      <td>bheem</td>\n",
              "    </tr>\n",
              "    <tr>\n",
              "      <th>4</th>\n",
              "      <td>0.990684</td>\n",
              "      <td>17.659487</td>\n",
              "      <td>2.969296</td>\n",
              "      <td>0.421759</td>\n",
              "      <td>0.078647</td>\n",
              "      <td>202.105255</td>\n",
              "      <td>124.588768</td>\n",
              "      <td>7.508127</td>\n",
              "      <td>2.379026</td>\n",
              "      <td>0.917102</td>\n",
              "      <td>1.301628</td>\n",
              "      <td>0.372937</td>\n",
              "      <td>0.028231</td>\n",
              "      <td>3.281258</td>\n",
              "      <td>25.641979</td>\n",
              "      <td>6.193751</td>\n",
              "      <td>0.306016</td>\n",
              "      <td>0.058924</td>\n",
              "      <td>46.865616</td>\n",
              "      <td>34.723438</td>\n",
              "      <td>5.547699</td>\n",
              "      <td>2.647828</td>\n",
              "      <td>8.501044</td>\n",
              "      <td>8.878104</td>\n",
              "      <td>4.128752</td>\n",
              "      <td>5.205629</td>\n",
              "      <td>-16.048725</td>\n",
              "      <td>0.0</td>\n",
              "      <td>-16.853645</td>\n",
              "      <td>2.720854</td>\n",
              "      <td>-22.190325</td>\n",
              "      <td>0.0</td>\n",
              "      <td>26.977427</td>\n",
              "      <td>3.878409</td>\n",
              "      <td>0.552943</td>\n",
              "      <td>0.085468</td>\n",
              "      <td>120.056412</td>\n",
              "      <td>45.530270</td>\n",
              "      <td>5.087247</td>\n",
              "      <td>1.696426</td>\n",
              "      <td>...</td>\n",
              "      <td>0.0</td>\n",
              "      <td>1.000000</td>\n",
              "      <td>0.000000</td>\n",
              "      <td>0.259259</td>\n",
              "      <td>0.438228</td>\n",
              "      <td>172.362991</td>\n",
              "      <td>53.978916</td>\n",
              "      <td>2.518518</td>\n",
              "      <td>3.414245</td>\n",
              "      <td>-6.146738e-09</td>\n",
              "      <td>6.867481e-09</td>\n",
              "      <td>0.023574</td>\n",
              "      <td>0.026375</td>\n",
              "      <td>0.000005</td>\n",
              "      <td>0.000012</td>\n",
              "      <td>0.019684</td>\n",
              "      <td>0.021820</td>\n",
              "      <td>0.000250</td>\n",
              "      <td>0.000610</td>\n",
              "      <td>0.016270</td>\n",
              "      <td>0.018086</td>\n",
              "      <td>4.706660</td>\n",
              "      <td>1.010753</td>\n",
              "      <td>0.030044</td>\n",
              "      <td>0.050586</td>\n",
              "      <td>32.262341</td>\n",
              "      <td>12.790809</td>\n",
              "      <td>0.004004</td>\n",
              "      <td>0.002639</td>\n",
              "      <td>161.100266</td>\n",
              "      <td>41.178917</td>\n",
              "      <td>4.705678</td>\n",
              "      <td>1.029619</td>\n",
              "      <td>4010335.00</td>\n",
              "      <td>5413284.00</td>\n",
              "      <td>0.739857</td>\n",
              "      <td>0.500096</td>\n",
              "      <td>0.007650</td>\n",
              "      <td>0.003042</td>\n",
              "      <td>bheem</td>\n",
              "    </tr>\n",
              "  </tbody>\n",
              "</table>\n",
              "<p>5 rows × 85 columns</p>\n",
              "</div>"
            ],
            "text/plain": [
              "   average_loudness  barkbands_crest.mean  ...  zerocrossingrate.stdev  stroke\n",
              "0          0.990684             15.045286  ...                0.002812   bheem\n",
              "1          0.990684             14.898280  ...                0.001386   bheem\n",
              "2          0.990684             14.472402  ...                0.001557   bheem\n",
              "3          0.990684             15.161849  ...                0.001870   bheem\n",
              "4          0.990684             17.659487  ...                0.003042   bheem\n",
              "\n",
              "[5 rows x 85 columns]"
            ]
          },
          "metadata": {
            "tags": []
          },
          "execution_count": 20
        }
      ]
    },
    {
      "cell_type": "code",
      "metadata": {
        "id": "_zrFi7BLMhai",
        "colab": {
          "base_uri": "https://localhost:8080/",
          "height": 401
        },
        "outputId": "f9f3d818-6061-4e88-8a28-214d247de6cc"
      },
      "source": [
        "# Take two random features and plot the sample points\n",
        "import seaborn as sns\n",
        "sns.relplot(x = \"melbands_flatness_db.mean\", y = \"spectral_centroid.mean\", hue = \"stroke\", data = data);"
      ],
      "execution_count": 21,
      "outputs": [
        {
          "output_type": "stream",
          "text": [
            "INFO: NumExpr defaulting to 2 threads.\n"
          ],
          "name": "stderr"
        },
        {
          "output_type": "display_data",
          "data": {
            "image/png": "[encoded data removed]",
            "text/plain": [
              "<Figure size 430.625x360 with 1 Axes>"
            ]
          },
          "metadata": {
            "tags": [],
            "needs_background": "light"
          }
        }
      ]
    },
    {
      "cell_type": "markdown",
      "metadata": {
        "id": "dU9u2YaDZ3DV"
      },
      "source": [
        "### Preprocessing of the features\n"
      ]
    },
    {
      "cell_type": "code",
      "metadata": {
        "id": "amcLwVPkZ3DX"
      },
      "source": [
        "data_modif = data.copy()\n",
        "\n",
        "#Let's use sklearn's preprocessing tools for applying normalisation to features\n",
        "from sklearn import preprocessing\n",
        "min_max_scaler = preprocessing.MinMaxScaler()\n",
        "data_modif.iloc[:,:84] = min_max_scaler.fit_transform(data.iloc[:,:84].values)"
      ],
      "execution_count": 22,
      "outputs": []
    },
    {
      "cell_type": "code",
      "metadata": {
        "id": "hByJk6RnZ3Dh",
        "colab": {
          "base_uri": "https://localhost:8080/"
        },
        "outputId": "62e5bbfb-5f85-4b62-9d93-13506d24cdfd"
      },
      "source": [
        "# Checking if our data is balanced (if not, we should balance it to prevent our model to be baised)\n",
        "data_modif.stroke.value_counts()"
      ],
      "execution_count": 23,
      "outputs": [
        {
          "output_type": "execute_result",
          "data": {
            "text/plain": [
              "thi      2161\n",
              "tha      1146\n",
              "ta        921\n",
              "thom      613\n",
              "num       480\n",
              "dheem     450\n",
              "dhin      386\n",
              "tham      357\n",
              "cha       294\n",
              "bheem      46\n",
              "Name: stroke, dtype: int64"
            ]
          },
          "metadata": {
            "tags": []
          },
          "execution_count": 23
        }
      ]
    },
    {
      "cell_type": "code",
      "metadata": {
        "id": "vBrUNGyqZ3Dq",
        "colab": {
          "base_uri": "https://localhost:8080/"
        },
        "outputId": "04c68c67-5999-4f6c-cd6d-7d88481c05f6"
      },
      "source": [
        "# Here we didn't pick the lowest number, 49 for bheem, which is too small. Instead, we choose the 330 of \"cha\"\n",
        "min_number = data_modif.stroke.value_counts()['cha']\n",
        "thi_data = data_modif[data_modif.stroke == 'thi'].sample(n = min_number, random_state = 42)\n",
        "tha_data = data_modif[data_modif.stroke == 'tha'].sample(n = min_number)\n",
        "ta_data = data_modif[data_modif.stroke == 'ta'].sample(n = min_number)\n",
        "thom_data = data_modif[data_modif.stroke == 'thom'].sample(n = min_number)\n",
        "num_data = data_modif[data_modif.stroke == 'num'].sample(n = min_number)\n",
        "dhin_data = data_modif[data_modif.stroke == 'dhin'].sample(n = min_number)\n",
        "dheem_data = data_modif[data_modif.stroke == 'dheem'].sample(n = min_number)\n",
        "tham_data = data_modif[data_modif.stroke == 'tham'].sample(n = min_number)\n",
        "cha_data = data_modif[data_modif.stroke == 'cha'].sample(n = min_number)\n",
        "bheem_data = data_modif[data_modif.stroke == 'bheem']\n",
        "#Merging after downsampling\n",
        "data_modif = pd.concat([thi_data, tha_data, ta_data, thom_data, num_data, dhin_data, dheem_data, tham_data, cha_data, bheem_data])\n",
        "#Checking the balance again\n",
        "data_modif.stroke.value_counts()"
      ],
      "execution_count": 24,
      "outputs": [
        {
          "output_type": "execute_result",
          "data": {
            "text/plain": [
              "thom     294\n",
              "tha      294\n",
              "num      294\n",
              "dhin     294\n",
              "tham     294\n",
              "thi      294\n",
              "dheem    294\n",
              "ta       294\n",
              "cha      294\n",
              "bheem     46\n",
              "Name: stroke, dtype: int64"
            ]
          },
          "metadata": {
            "tags": []
          },
          "execution_count": 24
        }
      ]
    },
    {
      "cell_type": "markdown",
      "metadata": {
        "id": "o6X3nwzjCIez"
      },
      "source": [
        "## Supervised learning approach (Support Vector Machines)"
      ]
    },
    {
      "cell_type": "code",
      "metadata": {
        "id": "agdVdsE6Z3Dz",
        "colab": {
          "base_uri": "https://localhost:8080/"
        },
        "outputId": "5af28713-bf20-408c-c86c-d2e2a04c019d"
      },
      "source": [
        "# Input values put in a matrix, there are 84 features\n",
        "X = data_modif.iloc[:,:84].values \n",
        "# Creating output values\n",
        "data_modif.stroke = pd.Categorical(data_modif.stroke)  # convert to categorical data\n",
        "y = np.array(data_modif.stroke.cat.codes)  # create label encoded outputs\n",
        "# Print the first sample\n",
        "print(\"Features of the first sample: \", X[0])\n",
        "print(\"Class of the first sample: \", y[0])"
      ],
      "execution_count": 25,
      "outputs": [
        {
          "output_type": "stream",
          "text": [
            "Features of the first sample:  [0.         0.16669803 0.19569333 0.19187305 0.21813181 0.00518465\n",
            " 0.00277292 0.11074965 0.03389682 0.29261579 0.27711622 0.61019934\n",
            " 0.44115533 0.         0.12703365 0.10249303 0.25651655 0.18245836\n",
            " 0.00977359 0.00827198 0.19769223 0.12555338 0.43349396 0.10128644\n",
            " 0.17647126 0.16102995 0.32257256 0.         0.32257256 0.\n",
            " 0.27492107 0.         0.18542482 0.14019162 0.25002372 0.24852188\n",
            " 0.03578908 0.04781622 0.32291146 0.21155403 0.30302373 0.31848565\n",
            " 0.79855294 0.27264357 0.         0.         1.         0.\n",
            " 0.51428571 0.97979593 0.22318307 0.27022523 0.45163884 0.45208968\n",
            " 0.8046493  0.14947107 0.20459315 0.14316509 0.02326046 0.02293771\n",
            " 0.00932192 0.0100157  0.16637874 0.19816178 0.23642542 0.23819592\n",
            " 0.75758891 0.23539464 0.32227111 0.3883777  0.08524024 0.05418312\n",
            " 0.28644568 0.31019266 0.25744742 0.10386354 0.20940889 0.11931316\n",
            " 0.20104476 0.10217799 0.15530405 0.10404513 0.41846153 0.47426487]\n",
            "Class of the first sample:  8\n"
          ],
          "name": "stdout"
        }
      ]
    },
    {
      "cell_type": "code",
      "metadata": {
        "id": "CHS_06ejZ3D-",
        "colab": {
          "base_uri": "https://localhost:8080/"
        },
        "outputId": "68d44759-6a24-4d97-d7a8-2c03f6544a0f"
      },
      "source": [
        "# Let's split data into test and train sets\n",
        "from sklearn.model_selection import train_test_split\n",
        "X_train, X_test, y_train, y_test = train_test_split(X, y, test_size = 0.33, random_state = 42)\n",
        "\n",
        "# Check sizes of input and output vectors\n",
        "print(\"Size of train features matrix: \",X_train.shape, \", Size of train output vector: \",y_train.shape)\n",
        "print(\"Size of test features matrix: \",X_test.shape, \", Size of test output vector: \",y_test.shape)"
      ],
      "execution_count": 26,
      "outputs": [
        {
          "output_type": "stream",
          "text": [
            "Size of train features matrix:  (1803, 84) , Size of train output vector:  (1803,)\n",
            "Size of test features matrix:  (889, 84) , Size of test output vector:  (889,)\n"
          ],
          "name": "stdout"
        }
      ]
    },
    {
      "cell_type": "code",
      "metadata": {
        "id": "RsoR_KCwZ3EG"
      },
      "source": [
        "# Define and train the model\n",
        "\n",
        "from sklearn import svm\n",
        "clf = svm.SVC(gamma = 1 / (X_train.shape[-1] * X_train.var()))\n",
        "\n",
        "# Fit model with training data\n",
        "clf.fit(X_train, y_train)\n",
        "\n",
        "# Predict classes of test samples\n",
        "y_pred = clf.predict(X_test)"
      ],
      "execution_count": 27,
      "outputs": []
    },
    {
      "cell_type": "code",
      "metadata": {
        "id": "ncsEtE4IZ3EN",
        "colab": {
          "base_uri": "https://localhost:8080/"
        },
        "outputId": "1d5d9913-6f67-4f0e-d782-7550260a9622"
      },
      "source": [
        "# Test the model\n",
        "# Let's check for each sample in the test set if prediction matches the true class information\n",
        "y_test == y_pred"
      ],
      "execution_count": 28,
      "outputs": [
        {
          "output_type": "execute_result",
          "data": {
            "text/plain": [
              "array([ True,  True,  True,  True,  True,  True,  True, False, False,\n",
              "       False,  True,  True,  True,  True,  True, False,  True,  True,\n",
              "        True,  True, False,  True,  True,  True,  True,  True,  True,\n",
              "        True,  True,  True, False, False,  True,  True,  True,  True,\n",
              "        True,  True,  True,  True,  True,  True,  True,  True,  True,\n",
              "        True,  True,  True,  True,  True,  True,  True,  True,  True,\n",
              "        True,  True,  True,  True,  True,  True,  True,  True,  True,\n",
              "        True,  True,  True,  True,  True,  True,  True, False,  True,\n",
              "        True, False,  True,  True,  True,  True,  True,  True,  True,\n",
              "        True,  True,  True,  True,  True,  True,  True,  True,  True,\n",
              "        True,  True,  True,  True,  True,  True,  True,  True, False,\n",
              "        True, False, False,  True,  True,  True,  True,  True, False,\n",
              "        True,  True,  True,  True,  True,  True,  True,  True, False,\n",
              "        True,  True,  True,  True,  True,  True,  True,  True,  True,\n",
              "        True,  True, False,  True,  True,  True,  True,  True,  True,\n",
              "       False,  True,  True,  True,  True,  True,  True,  True,  True,\n",
              "        True,  True,  True, False, False,  True,  True,  True,  True,\n",
              "        True,  True,  True,  True, False,  True,  True,  True,  True,\n",
              "        True,  True,  True,  True,  True,  True, False,  True,  True,\n",
              "        True,  True,  True,  True,  True,  True,  True,  True,  True,\n",
              "        True,  True,  True,  True,  True,  True,  True,  True, False,\n",
              "        True,  True,  True,  True,  True,  True,  True,  True,  True,\n",
              "        True,  True,  True,  True,  True,  True,  True,  True,  True,\n",
              "        True, False,  True,  True,  True,  True,  True,  True,  True,\n",
              "        True,  True,  True,  True,  True,  True, False,  True,  True,\n",
              "        True,  True,  True,  True,  True,  True,  True,  True,  True,\n",
              "        True,  True,  True,  True,  True,  True,  True,  True,  True,\n",
              "        True,  True, False,  True,  True,  True,  True,  True, False,\n",
              "        True,  True,  True,  True,  True,  True,  True,  True,  True,\n",
              "        True,  True,  True,  True,  True,  True,  True, False,  True,\n",
              "        True,  True,  True,  True,  True,  True, False,  True,  True,\n",
              "        True,  True,  True,  True,  True,  True,  True,  True,  True,\n",
              "       False,  True,  True,  True, False,  True,  True, False, False,\n",
              "        True,  True,  True,  True,  True,  True,  True,  True,  True,\n",
              "        True,  True,  True, False,  True,  True,  True,  True,  True,\n",
              "       False,  True,  True,  True,  True, False,  True, False,  True,\n",
              "        True,  True,  True, False,  True,  True,  True, False,  True,\n",
              "        True,  True,  True, False,  True,  True,  True,  True,  True,\n",
              "       False,  True,  True,  True,  True,  True,  True,  True,  True,\n",
              "       False,  True, False,  True,  True,  True,  True,  True,  True,\n",
              "        True,  True,  True,  True, False,  True, False,  True,  True,\n",
              "        True,  True,  True,  True,  True,  True,  True,  True,  True,\n",
              "       False,  True,  True,  True,  True,  True, False,  True,  True,\n",
              "        True,  True,  True,  True,  True,  True,  True,  True,  True,\n",
              "        True,  True, False,  True,  True,  True,  True,  True,  True,\n",
              "        True,  True,  True,  True,  True,  True,  True,  True,  True,\n",
              "        True,  True, False, False,  True,  True,  True,  True,  True,\n",
              "        True,  True,  True,  True,  True,  True,  True,  True,  True,\n",
              "        True,  True,  True,  True,  True,  True,  True,  True,  True,\n",
              "        True,  True,  True,  True,  True,  True,  True,  True,  True,\n",
              "        True,  True, False,  True,  True,  True,  True,  True,  True,\n",
              "        True,  True, False,  True,  True,  True,  True,  True,  True,\n",
              "        True,  True,  True,  True,  True,  True,  True, False,  True,\n",
              "        True,  True,  True,  True,  True,  True,  True,  True,  True,\n",
              "        True,  True,  True,  True,  True,  True,  True,  True,  True,\n",
              "        True,  True, False,  True,  True,  True,  True, False,  True,\n",
              "        True,  True,  True,  True,  True,  True,  True,  True, False,\n",
              "        True,  True,  True,  True,  True,  True,  True,  True,  True,\n",
              "        True,  True,  True,  True,  True, False,  True,  True,  True,\n",
              "        True,  True,  True,  True,  True,  True,  True,  True,  True,\n",
              "       False,  True,  True,  True,  True, False, False,  True,  True,\n",
              "        True,  True,  True,  True,  True,  True,  True,  True,  True,\n",
              "        True,  True,  True,  True,  True,  True,  True,  True,  True,\n",
              "        True,  True,  True,  True, False,  True,  True,  True,  True,\n",
              "        True,  True, False,  True,  True,  True,  True,  True,  True,\n",
              "        True,  True, False,  True,  True,  True,  True,  True,  True,\n",
              "        True,  True,  True,  True,  True,  True,  True,  True,  True,\n",
              "        True,  True,  True,  True,  True,  True,  True,  True,  True,\n",
              "        True,  True,  True,  True,  True,  True,  True,  True,  True,\n",
              "        True,  True,  True,  True,  True,  True,  True,  True,  True,\n",
              "        True, False,  True,  True,  True,  True,  True,  True,  True,\n",
              "        True,  True,  True,  True,  True,  True,  True,  True,  True,\n",
              "       False,  True,  True,  True,  True,  True,  True,  True,  True,\n",
              "        True,  True,  True,  True, False,  True,  True,  True,  True,\n",
              "       False,  True,  True,  True,  True,  True,  True,  True,  True,\n",
              "        True,  True,  True,  True, False,  True,  True,  True,  True,\n",
              "        True,  True, False,  True,  True,  True,  True,  True,  True,\n",
              "        True,  True,  True,  True,  True,  True,  True,  True,  True,\n",
              "        True,  True,  True, False,  True,  True,  True,  True, False,\n",
              "        True,  True,  True,  True,  True,  True,  True,  True,  True,\n",
              "        True,  True,  True,  True,  True,  True,  True,  True, False,\n",
              "        True,  True, False, False,  True,  True,  True,  True,  True,\n",
              "        True,  True,  True, False,  True,  True,  True,  True,  True,\n",
              "        True,  True,  True,  True,  True,  True,  True,  True,  True,\n",
              "        True,  True,  True,  True,  True,  True,  True,  True, False,\n",
              "        True,  True,  True,  True,  True,  True,  True,  True,  True,\n",
              "        True,  True,  True,  True,  True,  True,  True,  True,  True,\n",
              "        True,  True,  True,  True,  True,  True,  True,  True,  True,\n",
              "        True,  True,  True,  True,  True,  True,  True,  True,  True,\n",
              "       False,  True, False,  True,  True,  True,  True,  True,  True,\n",
              "        True, False,  True,  True,  True,  True,  True,  True,  True,\n",
              "        True,  True, False,  True,  True,  True,  True, False, False,\n",
              "        True,  True, False,  True,  True,  True,  True, False,  True,\n",
              "       False,  True,  True,  True,  True,  True,  True,  True,  True,\n",
              "        True,  True,  True,  True,  True,  True,  True,  True,  True,\n",
              "        True,  True,  True,  True,  True, False,  True,  True,  True,\n",
              "        True,  True,  True,  True,  True,  True,  True,  True,  True,\n",
              "        True,  True,  True,  True,  True, False,  True,  True,  True,\n",
              "        True, False,  True,  True,  True,  True,  True])"
            ]
          },
          "metadata": {
            "tags": []
          },
          "execution_count": 28
        }
      ]
    },
    {
      "cell_type": "code",
      "metadata": {
        "id": "p54ZOy8QZ3EP",
        "colab": {
          "base_uri": "https://localhost:8080/"
        },
        "outputId": "3d577f87-8b2c-409d-b433-0483bc4073a9"
      },
      "source": [
        "# Data is balanced, so you can use accuracy as a measure:\n",
        "print(\"accuracy: \", np.sum(y_test == y_pred)/len(y_test))"
      ],
      "execution_count": 29,
      "outputs": [
        {
          "output_type": "stream",
          "text": [
            "accuracy:  0.9032620922384702\n"
          ],
          "name": "stdout"
        }
      ]
    },
    {
      "cell_type": "code",
      "metadata": {
        "id": "0SfE74fYZ3EU",
        "colab": {
          "base_uri": "https://localhost:8080/",
          "height": 377
        },
        "outputId": "a5c66e5c-ce19-4834-c4af-e7e31e670f76"
      },
      "source": [
        "# Print the confusion matrix\n",
        "from sklearn.metrics import confusion_matrix\n",
        "import seaborn as sns\n",
        "\n",
        "classes = np.unique(data_modif.stroke)\n",
        "conf_mat = pd.DataFrame(confusion_matrix(y_test, y_pred), columns = classes, index = classes)\n",
        "conf_mat.index.name = 'Actual'\n",
        "conf_mat.columns.name = 'Predicted'\n",
        "plt.figure(figsize = (7, 5))\n",
        "sns.set(font_scale = 1.2)\n",
        "sns.heatmap(conf_mat, cmap = \"Blues\", annot_kws = {\"size\": 12}, annot = True);"
      ],
      "execution_count": 30,
      "outputs": [
        {
          "output_type": "display_data",
          "data": {
            "image/png": "[encoded data removed]",
            "text/plain": [
              "<Figure size 504x360 with 2 Axes>"
            ]
          },
          "metadata": {
            "tags": [],
            "needs_background": "light"
          }
        }
      ]
    },
    {
      "cell_type": "markdown",
      "metadata": {
        "id": "4pPbV0-Krdtl"
      },
      "source": [
        "## Unsupervised learning approach (Neural Network)"
      ]
    },
    {
      "cell_type": "code",
      "metadata": {
        "id": "8jENK7AuH-92"
      },
      "source": [
        "from sklearn.preprocessing import StandardScaler\n",
        "\n",
        "# Let's start by splitting our data \n",
        "X_train_val, X_test, y_train_val, y_test = train_test_split(X, y, test_size = 0.20, random_state = 1)\n",
        "\n",
        "# ..and apply normalisation\n",
        "scaler = StandardScaler().fit(X_train_val)\n",
        "norm_x_train_val = scaler.transform(X_train_val)\n",
        "norm_x_test = scaler.transform(X_test)"
      ],
      "execution_count": 56,
      "outputs": []
    },
    {
      "cell_type": "code",
      "metadata": {
        "id": "2LQQDNeRH-9-",
        "colab": {
          "base_uri": "https://localhost:8080/"
        },
        "outputId": "d526acf1-6e8e-4c83-8469-cd37d0998e68"
      },
      "source": [
        "from sklearn.preprocessing import OneHotEncoder\n",
        "onehot_encoder = OneHotEncoder(sparse=False)\n",
        "y_train_val_onehot = onehot_encoder.fit_transform(y_train_val.reshape(len(y_train_val), 1))\n",
        "y_test_onehot = onehot_encoder.fit_transform(y_test.reshape(len(y_test), 1))\n",
        "print(\"One-hot encoded y_train_val shape = \", y_train_val_onehot.shape)\n",
        "print(\"One-hot encoded y_test shape = \", y_test_onehot.shape)"
      ],
      "execution_count": 57,
      "outputs": [
        {
          "output_type": "stream",
          "text": [
            "One-hot encoded y_train_val shape =  (2153, 10)\n",
            "One-hot encoded y_test shape =  (539, 10)\n"
          ],
          "name": "stdout"
        }
      ]
    },
    {
      "cell_type": "code",
      "metadata": {
        "id": "DwoS-ycaH--A"
      },
      "source": [
        "from keras.models import Sequential\n",
        "from keras import layers\n",
        "\n",
        "def compose_model(num_features):\n",
        "    \n",
        "    model = Sequential()\n",
        "\n",
        "    # Input layer \n",
        "    model.add(layers.BatchNormalization(name='InputLayer', input_shape=(num_features,)))\n",
        "    \n",
        "    # 1. hidden layer\n",
        "    model.add(layers.Dense(name='HiddenLayer_1', units = 40))\n",
        "    model.add(layers.BatchNormalization())\n",
        "    model.add(layers.Activation('tanh'))\n",
        "    model.add(layers.Dropout(0.3))\n",
        "\n",
        "    # 2. hidden layer\n",
        "    model.add(layers.Dense(name='HiddenLayer_2', units = 20))\n",
        "    model.add(layers.BatchNormalization())\n",
        "    model.add(layers.Activation('relu'))\n",
        "    model.add(layers.Dropout(0.3))\n",
        "\n",
        "    # Output layer\n",
        "    model.add(layers.Dense(name='Output_layer', units = 10))\n",
        "    model.add(layers.Activation('sigmoid'))\n",
        "    \n",
        "    return model\n",
        "\n",
        "model = compose_model(X_train_val.shape[1])"
      ],
      "execution_count": 59,
      "outputs": []
    },
    {
      "cell_type": "code",
      "metadata": {
        "id": "NEdSFyGjNook",
        "colab": {
          "base_uri": "https://localhost:8080/"
        },
        "outputId": "b2a0576b-b220-428f-8c9c-6649154d1929"
      },
      "source": [
        "model.summary()  # Plot summary of the model"
      ],
      "execution_count": 60,
      "outputs": [
        {
          "output_type": "stream",
          "text": [
            "Model: \"sequential_4\"\n",
            "_________________________________________________________________\n",
            "Layer (type)                 Output Shape              Param #   \n",
            "=================================================================\n",
            "InputLayer (BatchNormalizati (None, 84)                336       \n",
            "_________________________________________________________________\n",
            "HiddenLayer_1 (Dense)        (None, 40)                3400      \n",
            "_________________________________________________________________\n",
            "batch_normalization_8 (Batch (None, 40)                160       \n",
            "_________________________________________________________________\n",
            "activation_12 (Activation)   (None, 40)                0         \n",
            "_________________________________________________________________\n",
            "dropout_8 (Dropout)          (None, 40)                0         \n",
            "_________________________________________________________________\n",
            "HiddenLayer_2 (Dense)        (None, 20)                820       \n",
            "_________________________________________________________________\n",
            "batch_normalization_9 (Batch (None, 20)                80        \n",
            "_________________________________________________________________\n",
            "activation_13 (Activation)   (None, 20)                0         \n",
            "_________________________________________________________________\n",
            "dropout_9 (Dropout)          (None, 20)                0         \n",
            "_________________________________________________________________\n",
            "Output_layer (Dense)         (None, 10)                210       \n",
            "_________________________________________________________________\n",
            "activation_14 (Activation)   (None, 10)                0         \n",
            "=================================================================\n",
            "Total params: 5,006\n",
            "Trainable params: 4,718\n",
            "Non-trainable params: 288\n",
            "_________________________________________________________________\n"
          ],
          "name": "stdout"
        }
      ]
    },
    {
      "cell_type": "code",
      "metadata": {
        "id": "5K_wFcbXH--F"
      },
      "source": [
        "model.compile(optimizer = 'Adam', loss = 'binary_crossentropy', metrics = ['accuracy'])\n",
        "summary = model.fit(X_train_val, y_train_val_onehot, batch_size = 50, epochs = 250, validation_split=0.2, verbose=0)"
      ],
      "execution_count": 61,
      "outputs": []
    },
    {
      "cell_type": "code",
      "metadata": {
        "id": "-CBE3EHiH--I",
        "colab": {
          "base_uri": "https://localhost:8080/"
        },
        "outputId": "5433d095-6aa0-4b26-9d0b-4e0758591787"
      },
      "source": [
        "score = model.evaluate(X_test, y_test_onehot, verbose = 0)\n",
        "print('Test loss:', score[0])\n",
        "print('Test accuracy:', score[1])"
      ],
      "execution_count": 62,
      "outputs": [
        {
          "output_type": "stream",
          "text": [
            "Test loss: 0.05019383132457733\n",
            "Test accuracy: 0.918367326259613\n"
          ],
          "name": "stdout"
        }
      ]
    },
    {
      "cell_type": "code",
      "metadata": {
        "id": "3Aa26zN7H--M",
        "colab": {
          "base_uri": "https://localhost:8080/",
          "height": 595
        },
        "outputId": "732b95e8-c84e-4840-d75e-9f346958971e"
      },
      "source": [
        "# summarize history for accuracy\n",
        "plt.plot(summary.history['accuracy'])\n",
        "plt.plot(summary.history['val_accuracy'])\n",
        "plt.title('model accuracy')\n",
        "plt.ylabel('accuracy')\n",
        "plt.xlabel('epoch')\n",
        "plt.legend(['train', 'validation'], loc='lower right')\n",
        "plt.show()\n",
        "# summarize history for loss\n",
        "plt.plot(summary.history['loss'])\n",
        "plt.plot(summary.history['val_loss'])\n",
        "plt.title('model loss')\n",
        "plt.ylabel('loss')\n",
        "plt.xlabel('epoch')\n",
        "plt.legend(['train', 'validation'], loc='upper right')\n",
        "plt.show()"
      ],
      "execution_count": 63,
      "outputs": [
        {
          "output_type": "display_data",
          "data": {
            "image/png": "[encoded data removed]",
            "text/plain": [
              "<Figure size 432x288 with 1 Axes>"
            ]
          },
          "metadata": {
            "tags": []
          }
        },
        {
          "output_type": "display_data",
          "data": {
            "image/png": "[encoded data removed]",
            "text/plain": [
              "<Figure size 432x288 with 1 Axes>"
            ]
          },
          "metadata": {
            "tags": []
          }
        }
      ]
    }
  ]
}