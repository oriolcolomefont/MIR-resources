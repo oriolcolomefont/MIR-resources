{
 "cells": [
  {
   "cell_type": "markdown",
   "metadata": {},
   "source": [
    "## Experiments in 'Tonal Complexity'\n",
    "\n",
    "Prepared by Martin Disley, Feb. 2018\n",
    "\n",
    "Here I present my initial experimentation in computational aesthetics in music. The goal of the following experiment was to attempt to separate what we would broadly call 'musical sounds' from 'non-musical synthetic sounds'. \n",
    "\n",
    "The hypothesis here is that our perceptual (subconscious) classification of sound as 'musical' or sound that we consider holds aesthetic value necessitates encoding of the data. In other words, sound that is too complex to encode we find holds little aesthetic value. On the other hand, we also find that sound that is overly simple and presents no challenge to be encoded also hold little aesthetic value. It is, therefore, reasonable to infer that there lies a 'sweet spot'.  \n",
    "\n",
    "Here I investigate two features that could be representative of complexity in sound, Spectral Complexity; the number of peaks present in the magnitude spectrum, and the Harmonic Complexity; a value of dissonance/consonance found by calculating deviation in spectral peaks from the integer multiples of their fundamental. The 'sweet spot' here would sounds that are consonant but complex; they are complex enough to be considered interesting, but consonant enough to be optimally encoded. The implementation uses the Essentia functions to estimate their 'Spectral Complexity' and Dissonance. "
   ]
  },
  {
   "cell_type": "markdown",
   "metadata": {},
   "source": [
    "### Import Modules:"
   ]
  },
  {
   "cell_type": "code",
   "execution_count": 1,
   "metadata": {},
   "outputs": [],
   "source": [
    "import os, sys\n",
    "import numpy as np\n",
    "import essentia\n",
    "import essentia.standard as es\n",
    "import matplotlib.pyplot as plt\n",
    "import freesound\n",
    "import errno\n",
    "%matplotlib inline"
   ]
  },
  {
   "cell_type": "markdown",
   "metadata": {},
   "source": [
    "### Downloading Sounds from Freesound:"
   ]
  },
  {
   "cell_type": "markdown",
   "metadata": {},
   "source": [
    "### Define the function:"
   ]
  },
  {
   "cell_type": "code",
   "execution_count": 2,
   "metadata": {},
   "outputs": [],
   "source": [
    "def getSoundFromFreesound(token, queryStrings, tag, duration, directoryName): \n",
    "    #initialise client function from Freesound\n",
    "    client = freesound.FreesoundClient()\n",
    "\n",
    "    #credentials to access the Freesound API via the Freesound python client \n",
    "    #token is an input variable \n",
    "    client.set_token(token, \"token\")\n",
    "\n",
    "    #set the maximum number of file to download per query\n",
    "    maxNumFilePerInst = 10\n",
    "    \n",
    "    #return the path to the current working directory \n",
    "    currentPath = os.getcwd() + \"/\"\n",
    "\n",
    "    #name and set path to new directory for downloads\n",
    "    audioDir = currentPath + directoryName + \"/\"\n",
    "\n",
    "    try:\n",
    "        #make the directory \n",
    "        os.makedirs(audioDir)\n",
    "    \n",
    "    #if a directory of the same name already exists do nothing\n",
    "    except OSError as e:\n",
    "        if e.errno != errno.EEXIST:\n",
    "             raise\n",
    "\n",
    "    for queryStr in queryStrings:\n",
    "        \n",
    "        if duration and type(duration) == tuple:\n",
    "            flt_dur = \" duration:[\" + str(duration[0])+ \" TO \" +str(duration[1]) + \"]\"\n",
    "        else:\n",
    "            flt_dur = \"\"\n",
    "\n",
    "        if tag and type(tag) == str:\n",
    "            flt_tag = \"tag:\"+tag\n",
    "        else:\n",
    "            flt_tag = \"\"\n",
    "            \n",
    "        results = client.text_search(query=queryStr,filter = flt_tag + flt_dur, fields=\"id,name,previews,tags\")\n",
    "        cnt=0\n",
    "        \n",
    "        for sound in results:\n",
    "        \n",
    "            #check if file has a '/' in it, as that will cause it to break\n",
    "            if sound.name.find('/')== -1:\n",
    "                #if not, do the stuff\n",
    "            \n",
    "                #DONT KNOW WHAT THIS DOES BUT IT BREAK IF I GET RID OF IT\n",
    "                sound.retrieve_preview(\".\",sound.name + \".wav\")\n",
    "            \n",
    "                #rename the sounds\n",
    "                os.rename(sound.name + \".wav\", queryStr + \"_\" + str(cnt) + \".wav\")\n",
    "            \n",
    "                #return the current path to the file including the file name\n",
    "                currentFilePath = currentPath + queryStr + \"_\" + str(cnt) + \".wav\"\n",
    "        \n",
    "                #return the new path to the file including the file name\n",
    "                newFilePath = audioDir + queryStr + \"_\" + str(cnt) + \".wav\"\n",
    "            \n",
    "                #move the file by renaming it's path\n",
    "                os.rename(currentFilePath, newFilePath)\n",
    "            \n",
    "                #increment the counter\n",
    "                cnt = cnt + 1 \n",
    "        \n",
    "            #if it does have a '/' in it, skip it.\n",
    "            else:\n",
    "                continue\n",
    "            \n",
    "            #leave when we've had enough\n",
    "            if cnt >= maxNumFilePerInst:\n",
    "                break\n",
    "    \n",
    "    print(\"Files are copied! check your folder\")"
   ]
  },
  {
   "cell_type": "markdown",
   "metadata": {},
   "source": [
    "### Call it:"
   ]
  },
  {
   "cell_type": "code",
   "execution_count": 3,
   "metadata": {},
   "outputs": [
    {
     "name": "stdout",
     "output_type": "stream",
     "text": [
      "Files are copied! check your folder\n"
     ]
    }
   ],
   "source": [
    "#SET YOUR OWN TOKEN\n",
    "token = = \"...yourTokenGoesHere...\"\n",
    "\n",
    "#input search querys\n",
    "queryStrings=[\"white-noise\", \"sine-tone\", \"acoustic-guitar\"]\n",
    "\n",
    "#add a tag to refine the search\n",
    "tag = [\"clean\"]\n",
    "\n",
    "#specify a duration \n",
    "dur = (0, 10) #(start,stop)\n",
    "\n",
    "directoryName = 'freesoundDownloads'\n",
    "\n",
    "#call the function\n",
    "getSoundFromFreesound(token, queryStrings, tag, dur, directoryName)\n",
    "\n",
    "audioDir = directoryName + '/'"
   ]
  },
  {
   "cell_type": "markdown",
   "metadata": {},
   "source": [
    "### Decleration of variables and Essentia functions:"
   ]
  },
  {
   "cell_type": "code",
   "execution_count": 4,
   "metadata": {},
   "outputs": [],
   "source": [
    "#variables\n",
    "fs = 44100\n",
    "windowSize = 1024\n",
    "hopSize = windowSize/2\n",
    "\n",
    "#Essentia functions\n",
    "w = es.Windowing(type = 'hann')\n",
    "spec = es.Spectrum()\n",
    "specComp = es.SpectralComplexity()\n",
    "specPeaks = es.SpectralPeaks()\n",
    "diss = es.Dissonance()"
   ]
  },
  {
   "cell_type": "markdown",
   "metadata": {},
   "source": [
    "### Compute the Spectral Complexity and Dissonance:"
   ]
  },
  {
   "cell_type": "code",
   "execution_count": 5,
   "metadata": {
    "scrolled": false
   },
   "outputs": [
    {
     "name": "stdout",
     "output_type": "stream",
     "text": [
      "acoustic-guitar_0.wav\n",
      "acoustic-guitar_1.wav\n",
      "acoustic-guitar_2.wav\n",
      "acoustic-guitar_3.wav\n",
      "acoustic-guitar_4.wav\n",
      "acoustic-guitar_5.wav\n",
      "acoustic-guitar_6.wav\n",
      "acoustic-guitar_7.wav\n",
      "acoustic-guitar_8.wav\n",
      "acoustic-guitar_9.wav\n",
      "sine-tone_0.wav\n",
      "sine-tone_1.wav\n",
      "sine-tone_2.wav\n",
      "sine-tone_3.wav\n",
      "sine-tone_4.wav\n",
      "sine-tone_5.wav\n",
      "sine-tone_6.wav\n",
      "sine-tone_7.wav\n",
      "sine-tone_8.wav\n",
      "sine-tone_9.wav\n",
      "white-noise_0.wav\n",
      "white-noise_1.wav\n",
      "white-noise_2.wav\n",
      "white-noise_3.wav\n",
      "white-noise_4.wav\n",
      "white-noise_5.wav\n",
      "white-noise_6.wav\n",
      "white-noise_7.wav\n",
      "white-noise_8.wav\n",
      "white-noise_9.wav\n"
     ]
    }
   ],
   "source": [
    "#initialise the pool\n",
    "pool = essentia.Pool()\n",
    "\n",
    "#initialise the an array to keep track of the file names \n",
    "fileNames = []\n",
    "\n",
    "#iterate through the files in the directory we created with the files downloaded from Freesound in it.\n",
    "for file in os.listdir(audioDir):\n",
    "    print(file)\n",
    "    \n",
    "    #load the file\n",
    "    x = es.MonoLoader(filename = audioDir + file, sampleRate = fs)()\n",
    "    \n",
    "    #normalise the file \n",
    "    x = x/np.max(np.abs(x))\n",
    "    \n",
    "    #store the file name minus the file type as a variable \n",
    "    fileName = file[:-4]\n",
    "    \n",
    "    #add the filename to the array of filenames\n",
    "    fileNames.append(fileName)\n",
    "\n",
    "    #iterate through the frames of 'x' generated by FrameGenerator\n",
    "    for frame in es.FrameGenerator(x, frameSize = 1024, hopSize = 512, startFromZero=True):\n",
    "        \n",
    "        #compute the spectrum\n",
    "        spectrum = spec(w(frame))\n",
    "        #beacuse Spectral Complexity takes it as its input\n",
    "        complexity = specComp(spectrum)\n",
    "        #compute the Spectral Peaks \n",
    "        f_peaks, mag_peaks = specPeaks(w(frame))\n",
    "        #beacuse Dissonance takes it as its input\n",
    "        dissonance = diss(f_peaks, mag_peaks) \n",
    "        \n",
    "        #Add the features to the Pool\n",
    "        pool.add(fileName+\".complexity\", complexity)\n",
    "        pool.add(fileName+\".dissonance\", dissonance)"
   ]
  },
  {
   "cell_type": "markdown",
   "metadata": {},
   "source": [
    "### Post-processing:"
   ]
  },
  {
   "cell_type": "code",
   "execution_count": 6,
   "metadata": {},
   "outputs": [],
   "source": [
    "#compute mean and stdev of the all the frames and store them in a new pool\n",
    "aggrPool = es.PoolAggregator(defaultStats = [ 'mean', 'stdev' ])(pool)\n",
    "\n",
    "#create a new pool to store the mean and std of each file\n",
    "featurePool=essentia.Pool()\n",
    "\n",
    "#iterate through all the file names from the array the you made earlier \n",
    "for fileName in fileNames:\n",
    "    \n",
    "    #split the name after before the number to get the source type ie noise, tone, acoustic-guitar\n",
    "    sourceType = fileName.split(\"_\")[0]\n",
    "    \n",
    "    #add the mean and stdev of the complexity and dissonance values for each file in the new pool\n",
    "    featurePool.add(sourceType+\".complexity.mean\", aggrPool[fileName+\".complexity.mean\"])\n",
    "    featurePool.add(sourceType+\".complexity.stdev\", aggrPool[fileName+\".complexity.stdev\"])\n",
    "    featurePool.add(sourceType+\".dissonance.mean\", aggrPool[fileName+\".dissonance.mean\"])\n",
    "    featurePool.add(sourceType+\".dissonance.stdev\", aggrPool[fileName+\".dissonance.stdev\"])"
   ]
  },
  {
   "cell_type": "markdown",
   "metadata": {},
   "source": [
    "### Plotting:"
   ]
  },
  {
   "cell_type": "code",
   "execution_count": 7,
   "metadata": {},
   "outputs": [
    {
     "data": {
      "text/plain": [
       "Text(0,0.5,'Dissonance Mean')"
      ]
     },
     "execution_count": 7,
     "metadata": {},
     "output_type": "execute_result"
    },
    {
     "data": {
      "image/png": "[encoded data removed]",
      "text/plain": [
       "<matplotlib.figure.Figure at 0x7f53c4099ac8>"
      ]
     },
     "metadata": {},
     "output_type": "display_data"
    }
   ],
   "source": [
    "plt.plot(featurePool['acoustic-guitar.complexity.mean'], \n",
    "         featurePool['acoustic-guitar.dissonance.mean'], \n",
    "         \"bo\", label = 'acoustic-guitar')\n",
    "\n",
    "plt.plot(featurePool['white-noise.complexity.mean'], \n",
    "         featurePool['white-noise.dissonance.mean'], \n",
    "         \"ro\", label = 'white-noise')\n",
    "\n",
    "plt.plot(featurePool['sine-tone.complexity.mean'], \n",
    "         featurePool['sine-tone.dissonance.mean'], \n",
    "         \"go\", label = 'sine-tone')\n",
    "\n",
    "plt.rcParams['figure.figsize'] = (17, 8)\n",
    "plt.legend(loc='best')\n",
    "plt.xlabel('Spectral Complexity Mean')\n",
    "plt.ylabel('Dissonance Mean')"
   ]
  },
  {
   "cell_type": "code",
   "execution_count": 8,
   "metadata": {},
   "outputs": [
    {
     "data": {
      "text/plain": [
       "Text(0,0.5,'Dissonance Standard Deviation')"
      ]
     },
     "execution_count": 8,
     "metadata": {},
     "output_type": "execute_result"
    },
    {
     "data": {
      "image/png": "[encoded data removed]",
      "text/plain": [
       "<matplotlib.figure.Figure at 0x7f5395d01c88>"
      ]
     },
     "metadata": {},
     "output_type": "display_data"
    }
   ],
   "source": [
    "plt.plot(featurePool['acoustic-guitar.complexity.stdev'], \n",
    "         featurePool['acoustic-guitar.dissonance.stdev'], \n",
    "         \"bo\", label = 'acoustic-guitar')\n",
    "\n",
    "plt.plot(featurePool['white-noise.complexity.stdev'], \n",
    "         featurePool['white-noise.dissonance.stdev'], \n",
    "         \"ro\", label = 'white-noise')\n",
    "\n",
    "plt.plot(featurePool['sine-tone.complexity.stdev'], \n",
    "         featurePool['sine-tone.dissonance.stdev'], \n",
    "         \"go\", label = 'sine-tone')\n",
    "\n",
    "plt.rcParams['figure.figsize'] = (17, 8)\n",
    "plt.legend(loc='best')\n",
    "plt.xlabel('Spectral Complexity Standard Deviation')\n",
    "plt.ylabel('Dissonance Standard Deviation')"
   ]
  },
  {
   "cell_type": "code",
   "execution_count": 9,
   "metadata": {},
   "outputs": [
    {
     "data": {
      "text/plain": [
       "Text(0,0.5,'Dissonance Standard Deviation')"
      ]
     },
     "execution_count": 9,
     "metadata": {},
     "output_type": "execute_result"
    },
    {
     "data": {
      "image/png": "[encoded data removed]",
      "text/plain": [
       "<matplotlib.figure.Figure at 0x7f5395d019b0>"
      ]
     },
     "metadata": {},
     "output_type": "display_data"
    }
   ],
   "source": [
    "plt.plot(featurePool['acoustic-guitar.complexity.mean'], \n",
    "         featurePool['acoustic-guitar.dissonance.stdev'], \n",
    "         \"bo\", label = 'acoustic-guitar')\n",
    "\n",
    "plt.plot(featurePool['white-noise.complexity.mean'], \n",
    "         featurePool['white-noise.dissonance.stdev'], \n",
    "         \"ro\", label = 'white-noise')\n",
    "\n",
    "plt.plot(featurePool['sine-tone.complexity.mean'], \n",
    "         featurePool['sine-tone.dissonance.stdev'], \n",
    "         \"go\", label = 'sine-tone')\n",
    "\n",
    "plt.rcParams['figure.figsize'] = (17, 8)\n",
    "plt.legend(loc='best')\n",
    "plt.xlabel('Spectral Complexity Mean')\n",
    "plt.ylabel('Dissonance Standard Deviation')"
   ]
  },
  {
   "cell_type": "code",
   "execution_count": 10,
   "metadata": {},
   "outputs": [
    {
     "data": {
      "text/plain": [
       "Text(0,0.5,'Dissonance Standard Mean')"
      ]
     },
     "execution_count": 10,
     "metadata": {},
     "output_type": "execute_result"
    },
    {
     "data": {
      "image/png": "[encoded data removed]",
      "text/plain": [
       "<matplotlib.figure.Figure at 0x7f5395c19780>"
      ]
     },
     "metadata": {},
     "output_type": "display_data"
    }
   ],
   "source": [
    "plt.plot(featurePool['acoustic-guitar.complexity.stdev'], \n",
    "         featurePool['acoustic-guitar.dissonance.mean'], \n",
    "         \"bo\", label = 'acoustic-guitar')\n",
    "\n",
    "plt.plot(featurePool['white-noise.complexity.stdev'], \n",
    "         featurePool['white-noise.dissonance.mean'], \n",
    "         \"ro\", label = 'white-noise')\n",
    "\n",
    "plt.plot(featurePool['sine-tone.complexity.stdev'], \n",
    "         featurePool['sine-tone.dissonance.mean'], \n",
    "         \"go\", label = 'sine-tone')\n",
    "\n",
    "plt.rcParams['figure.figsize'] = (17, 8)\n",
    "plt.legend(loc='best')\n",
    "plt.xlabel('Spectral Complexity Standard Deviation')\n",
    "plt.ylabel('Dissonance Standard Mean')"
   ]
  }
 ],
 "metadata": {
  "kernelspec": {
   "display_name": "Python 3",
   "language": "python",
   "name": "python3"
  },
  "language_info": {
   "codemirror_mode": {
    "name": "ipython",
    "version": 3
   },
   "file_extension": ".py",
   "mimetype": "text/x-python",
   "name": "python",
   "nbconvert_exporter": "python",
   "pygments_lexer": "ipython3",
   "version": "3.5.2"
  }
 },
 "nbformat": 4,
 "nbformat_minor": 2
}
